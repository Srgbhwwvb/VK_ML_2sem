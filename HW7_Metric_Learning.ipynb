{
 "cells": [
  {
   "cell_type": "markdown",
   "id": "b865a776cec2c226",
   "metadata": {},
   "source": [
    "## ДЗ7\n",
    "\n"
   ]
  },
  {
   "cell_type": "markdown",
   "id": "0cf6135d-601f-46fe-99dc-166895eac4f7",
   "metadata": {},
   "source": [
    "Цель задания:\n",
    "Познакомится с алгоритмами metric learning\n",
    "\n",
    "Описание задания:\n",
    "В рамках данного домашнего задания предлагается решить задачу поиска похожего автомобиля в базе данных (автомобиля того же класса). На основе датасета cars196 , ссылка на данные мета data.\n",
    "\n",
    "Процесс выполнения задания следующий:\n",
    "\n",
    "Выбор модели эмбеддера:\n",
    "\n",
    "Выберите модель кодирующую изображения для выполнения домашнего задания. Любую, кроме модели resnet50.\n",
    "Подготовка обучающего набора данных\n",
    "\n",
    "Реализуйте корректный класс Dataset и Dataloader для выбранной модели (должен работать форвард вашей модели на том, что выходит из даталоадера).\n",
    "Добавьте аугментации в датасет 0.5 балла.\n",
    "Реализация корректного train-loop и обучение модели:\n",
    "\n",
    "Реализуйте train-loop для вашей модели и проведите обучение c Triplet loss 2 балла.\n",
    "При формировании триплета не просто брать отрицательный класс, а воспользоваться техникой hard negative mining 0.5 балла.\n",
    "Обучите модель и воcпользуйте иными loss функциями для задачи metric learning 0.5 балла.\n",
    "Полезные ссылки тык\n",
    "Валидация обученных моделей на тестовой выборке, вычисление метрики Recall и Precision\n",
    "\n",
    "Оцените качество моделей на тестовой части данных и рассчитайте метрики поиска Recall@1, Recall@5, Precision@1, Precision@5. Обратите внимание, что для формирования предсказаний на тестовой выборке вы не должны предсказывать напрямую класс объекта, а должны производить поиск на основе получившихся эмбеддингов (пример в семинаре блок Faiss). 0.5 балла\n",
    "При поиске воспользоваться библиотекой Faiss 0.5 балла\n",
    "Выводы:\n",
    "\n",
    "Проанализируйте результаты обучения, визуально оцените качество работы модели.\n",
    "Прокомментируйте распространенные ошибки модели и предложите пути для улучшения финального решения.\n",
    "Проинтерпретируйте результаты работы модели с помощью GradCam 0.5 балла"
   ]
  },
  {
   "cell_type": "code",
   "execution_count": 14,
   "id": "71efe1d405ec5226",
   "metadata": {},
   "outputs": [],
   "source": [
    "import cv2\n",
    "import os\n",
    "import matplotlib.pyplot as plt\n",
    "import random\n",
    "import pandas as pd\n",
    "import numpy as np\n",
    "import tqdm\n",
    "import torch\n",
    "import torch.nn as nn\n",
    "import torchvision\n",
    "from torch.utils.data import DataLoader\n",
    "from sklearn.model_selection import train_test_split\n",
    "import scipy.io\n",
    "\n",
    "DEVICE=torch.device('cuda' if torch.cuda.is_available() else 'cpu')\n",
    "mat = scipy.io.loadmat('C:\\\\Users\\\\Alex\\\\Downloads\\\\devkit\\\\devkit\\\\cars_train_annos.mat')\n",
    "fname_to_class = {fname:cl-1 for fname, cl in zip([i[0] for i in mat['annotations'][0]['fname']], \n",
    "                                                [i[0][0] for i in mat['annotations'][0]['class']])}\n",
    "cars_meta = scipy.io.loadmat('C:\\\\Users\\\\Alex\\\\Downloads\\\\devkit\\\\devkit\\\\cars_meta.mat')\n",
    "id_to_car = {idx: car[0] for idx, car in enumerate(cars_meta['class_names'][0])}\n",
    "\n",
    "items = list(fname_to_class.items())\n",
    "random.shuffle(items)\n",
    "\n",
    "train_items = items[:int(len(items) * 0.8)]\n",
    "val_items = items[int(len(items) * 0.8):]\n",
    "train_imgs = np.array([item[0] for item in train_items])\n",
    "train_ids = np.array([item[1] for item in train_items])\n",
    "val_imgs = np.array([item[0] for item in val_items])\n",
    "val_ids = np.array([item[1] for item in val_items])"
   ]
  },
  {
   "cell_type": "markdown",
   "id": "ecd88fc117c3771d",
   "metadata": {},
   "source": [
    " # Реализация датасета с возможностью mining для TripletLoss"
   ]
  },
  {
   "cell_type": "code",
   "execution_count": 18,
   "id": "5b39515f",
   "metadata": {},
   "outputs": [],
   "source": [
    "MARGIN = 0.2\n",
    "num_classes=192\n",
    "\n",
    "def distance(x1, x2):\n",
    "    return (x1 - x2).pow(2).sum(1).to('cpu')\n",
    "\n",
    "class TripletDataset(torch.utils.data.Dataset):\n",
    "    def __init__(self, imgs, ids, transforms,  model=None, triplet_margin=MARGIN):\n",
    "        self.cars = np.vstack([imgs, ids])\n",
    "        self.model = model\n",
    "        if model:\n",
    "            self.margin = triplet_margin\n",
    "        self.transforms = transforms\n",
    "        \n",
    "    def __len__(self):\n",
    "        return self.cars.shape[1]\n",
    "    \n",
    "    def positive(self, anchor_id, anchor_filename):\n",
    "        positives = self.cars[:, self.cars[1] == anchor_id]\n",
    "        positives = positives[:, positives[0] != anchor_filename]\n",
    "        random_idx = random.randint(0, positives.shape[1] - 1)\n",
    "        return positives[0, random_idx], positives[1, random_idx]        \n",
    "    \n",
    "    def negative(self, anchor_id, anchor_embedding=None, positive_embedding=None):      \n",
    "        \n",
    "        if self.model is None: # без hard mining\n",
    "            negatives = self.cars[:, self.cars[1] != anchor_id]\n",
    "            random_idx = random.randint(0, negatives.shape[1] - 1)\n",
    "            return negatives[0, random_idx], negatives[1, random_idx]\n",
    "\n",
    "\n",
    "        #в качестве hard mining рандомно выбираем 1 представителя от каждого класса, \n",
    "        #считаем расстояние до этих представителей пока не выполнится условие dist_anchor_to_negative < dist_anchor_to_positive\n",
    "        #при этом обновляем минимальный найденный dist_anchor_to_negative. \n",
    "        #Возвращаем негативный элемент соответствующий минимальному dist_anchor_to_negative.\n",
    "        \n",
    "        min_dist=0\n",
    "        min_idx=0\n",
    "        min_filename=0\n",
    "        dist_anchor_to_positive = distance(anchor_embedding, positive_embedding)\n",
    "        for i in range(num_classes):\n",
    "            if(i!=anchor_id):\n",
    "                temp=self.cars[:, self.cars[1] == i]\n",
    "                random_id = random.randint(0,temp.shape[1] - 1)\n",
    "                negative_filename = temp[0, random_id]\n",
    "                negative_id = temp[1, random_id]\n",
    "                negative_image = cv2.imread(os.path.join('C:\\\\Users\\\\Alex\\\\Downloads\\\\devkit\\\\devkit\\\\cars_train\\\\cars_train', negative_filename))\n",
    "                negative_image = cv2.cvtColor(negative_image, cv2.COLOR_BGR2RGB)\n",
    "                with torch.no_grad():\n",
    "                    negative_embedding = self.model(self.transforms(negative_image).to(DEVICE))\n",
    "                dist_anchor_to_negative = distance(anchor_embedding, negative_embedding)    \n",
    "                \n",
    "                if(dist_anchor_to_negative<min_dist):\n",
    "                    min_dist=dist_anchor_to_negative\n",
    "                    min_filename= negative_filename\n",
    "                    min_idx= negative_id\n",
    "                    \n",
    "                if dist_anchor_to_negative < dist_anchor_to_positive:\n",
    "                    return negative_filename, negative_id\n",
    "        \n",
    "        \n",
    "        return min_filename, min_idx\n",
    "            \n",
    "            \n",
    "    def __getitem__(self, idx):\n",
    "        anchor_filename, anchor_id = self.cars[0, idx], self.cars[1, idx]\n",
    "        anchor_image = cv2.imread(os.path.join('C:\\\\Users\\\\Alex\\\\Downloads\\\\devkit\\\\devkit\\\\cars_train\\\\cars_train', anchor_filename))\n",
    "        anchor_image = cv2.cvtColor(anchor_image, cv2.COLOR_BGR2RGB)\n",
    "        positive_filename = self.positive(anchor_id, anchor_filename)[0]\n",
    "        positive_image = cv2.imread(os.path.join('C:\\\\Users\\\\Alex\\\\Downloads\\\\devkit\\\\devkit\\\\cars_train\\\\cars_train', positive_filename))\n",
    "        positive_image = cv2.cvtColor(positive_image, cv2.COLOR_BGR2RGB)\n",
    "        \n",
    "        if self.model is None:\n",
    "            negative_filename = self.negative(anchor_id)[0]\n",
    "        else:\n",
    "            self.model.eval()\n",
    "            with torch.no_grad():\n",
    "                anchor_embedding = self.model(self.transforms(anchor_image).to(DEVICE))\n",
    "                positive_embedding = self.model(self.transforms(positive_image).to(DEVICE))\n",
    "            \n",
    "            negative_filename = self.negative(anchor_id, anchor_embedding, positive_embedding)[0]\n",
    "            \n",
    "        \n",
    "        negative_image = cv2.imread(os.path.join('C:\\\\Users\\\\Alex\\\\Downloads\\\\devkit\\\\devkit\\\\cars_train\\\\cars_train', negative_filename))\n",
    "        negative_image = cv2.cvtColor(negative_image, cv2.COLOR_BGR2RGB) \n",
    "\n",
    "        if self.transforms:\n",
    "            anchor_image = self.transforms(anchor_image)\n",
    "            positive_image = self.transforms(positive_image)\n",
    "            negative_image = self.transforms(negative_image)\n",
    "        return {'anchor_image': anchor_image, 'positive_image': positive_image, 'negative_image': negative_image}\n",
    "\n",
    "\n",
    "\n",
    "class SimpleDataset(torch.utils.data.Dataset):\n",
    "    def __init__(self, imgs, ids, transforms):\n",
    "        self.cars = np.vstack([imgs, ids])\n",
    "        self.transforms = transforms\n",
    "        \n",
    "    def __len__(self):\n",
    "        return self.cars.shape[1]\n",
    "\n",
    "    def __getitem__(self, idx):\n",
    "        filename, cl_id = self.cars[:, idx]\n",
    "        image = cv2.imread(os.path.join('C:\\\\Users\\\\Alex\\\\Downloads\\\\devkit\\\\devkit\\\\cars_train\\\\cars_train', filename))\n",
    "        image = cv2.cvtColor(image, cv2.COLOR_BGR2RGB)\n",
    "        if self.transforms:\n",
    "            image = self.transforms(image)\n",
    "        sample = {'image': image, 'label': cl_id}\n",
    "        return sample"
   ]
  },
  {
   "cell_type": "markdown",
   "id": "afb951bedca1d230",
   "metadata": {},
   "source": [
    "# Embeding c TripletLoss"
   ]
  },
  {
   "cell_type": "code",
   "execution_count": 16,
   "id": "ce40339e8826795f",
   "metadata": {},
   "outputs": [],
   "source": [
    "import pytorch_lightning as pl\n",
    "from pytorch_lightning.callbacks import ModelCheckpoint\n",
    "from pytorch_lightning.callbacks import LearningRateMonitor\n",
    "from torchvision.models import squeezenet1_1,SqueezeNet1_1_Weights, swin_t, Swin_T_Weights\n",
    "from torch.nn import TripletMarginLoss\n",
    "import torchvision.models as models\n",
    "los=[]\n",
    "\n",
    "class Embeding(pl.LightningModule):\n",
    "    def __init__(self, class_dict, learning_rate, emb_size, triplet_margin=MARGIN):\n",
    "        super().__init__()\n",
    "        self.learning_rate = learning_rate\n",
    "        self.model = swin_t(weights=Swin_T_Weights)\n",
    "        self.model.head= torch.nn.Sequential(\n",
    "                            torch.nn.Linear(in_features=768, out_features=512))\n",
    "        self.triplet_loss =nn.TripletMarginLoss(margin=0.2)\n",
    "        \n",
    "        \n",
    "    def training_step(self, batch, batch_idx):\n",
    "        anchor_imgs = batch['anchor_image']\n",
    "        positive_imgs = batch['positive_image']\n",
    "        negative_imgs = batch['negative_image'] \n",
    "        anchor_emb = self.model(anchor_imgs)\n",
    "        self.model.eval()\n",
    "        with torch.no_grad():\n",
    "            positive_emb = self.model(positive_imgs)\n",
    "            negative_emb = self.model(negative_imgs)\n",
    "        \n",
    "        self.model.train()\n",
    "        loss = self.triplet_loss(anchor_emb, positive_emb, negative_emb).mean()\n",
    "       \n",
    "        return loss\n",
    "    \n",
    "    def validation_step(self, batch, batch_idx):\n",
    "        global los\n",
    "        anchor_imgs = batch['anchor_image']\n",
    "        positive_imgs = batch['positive_image']\n",
    "        negative_imgs = batch['negative_image']\n",
    "        \n",
    "        anchor_emb = self.model(anchor_imgs)\n",
    "        positive_emb = self.model(positive_imgs)\n",
    "        negative_emb = self.model(negative_imgs)\n",
    "        \n",
    "        loss = self.triplet_loss(anchor_emb, positive_emb, negative_emb).mean()\n",
    "        los.append(loss)\n",
    "        \n",
    "        \n",
    "    def forward(self, images):\n",
    "        if len(images.shape) == 4:\n",
    "            preds = self.model(images) \n",
    "        else:\n",
    "            preds = self.model(images.unsqueeze(0))\n",
    "        return preds\n",
    "    \n",
    "    def configure_optimizers(self):\n",
    "        optimizer = torch.optim.Adam(self.parameters(), lr=self.learning_rate)\n",
    "        return [optimizer]"
   ]
  },
  {
   "cell_type": "markdown",
   "id": "57d26973b292cacd",
   "metadata": {},
   "source": [
    "# Обучение:"
   ]
  },
  {
   "cell_type": "code",
   "execution_count": 4,
   "id": "d5a92f81a9c7a727",
   "metadata": {},
   "outputs": [
    {
     "name": "stderr",
     "output_type": "stream",
     "text": [
      "C:\\Users\\Alex\\AppData\\Local\\Programs\\Python\\Python312\\Lib\\site-packages\\torchvision\\models\\_utils.py:223: UserWarning: Arguments other than a weight enum or `None` for 'weights' are deprecated since 0.13 and may be removed in the future. The current behavior is equivalent to passing `weights=Swin_T_Weights.IMAGENET1K_V1`. You can also use `weights=Swin_T_Weights.DEFAULT` to get the most up-to-date weights.\n",
      "  warnings.warn(msg)\n"
     ]
    }
   ],
   "source": [
    "train_transforms = torchvision.transforms.Compose([\n",
    "            torchvision.transforms.ToPILImage(), \n",
    "            torchvision.transforms.Resize(\n",
    "                size=(256, 256)\n",
    "            ),\n",
    "            torchvision.transforms.ToTensor(),  \n",
    "            torchvision.transforms.RandomAffine(degrees=(-10, 10), translate=(0.1, 0.1)),\n",
    "            torchvision.transforms.RandomPerspective(distortion_scale=0.2),\n",
    "            torchvision.transforms.Normalize(\n",
    "                mean=[0.485, 0.456, 0.406],\n",
    "                std=[0.229, 0.224, 0.225]\n",
    "            )\n",
    "            ])\n",
    "\n",
    "\n",
    "val_transforms = torchvision.transforms.Compose([\n",
    "            torchvision.transforms.ToPILImage(), \n",
    "            torchvision.transforms.Resize(\n",
    "                size=(256, 256)\n",
    "            ),\n",
    "            torchvision.transforms.ToTensor(),  \n",
    "            torchvision.transforms.Normalize(\n",
    "                mean=[0.485, 0.456, 0.406],\n",
    "                std=[0.229, 0.224, 0.225]\n",
    "            )\n",
    "            ])\n",
    "\n",
    "train_dataset = TripletDataset(train_imgs, train_ids, train_transforms)\n",
    "train_loader = DataLoader(train_dataset, batch_size=16, shuffle=True,  pin_memory=True, drop_last = True)\n",
    "\n",
    "pl_model = Embeding(id_to_car, 3e-4, 512, MARGIN)\n",
    "pl_model.to(DEVICE)\n",
    "pl_model.train()\n",
    "val_dataset = TripletDataset(val_imgs, val_ids, val_transforms)\n",
    "val_loader = DataLoader(val_dataset, batch_size=16, shuffle=False, pin_memory=True)\n",
    "\n"
   ]
  },
  {
   "cell_type": "code",
   "execution_count": 24,
   "id": "6d0451a2-d96d-4676-b1b9-40f06e1dd0dc",
   "metadata": {},
   "outputs": [
    {
     "data": {
      "application/vnd.jupyter.widget-view+json": {
       "model_id": "2465e090cf4942f389c670f3f6604700",
       "version_major": 2,
       "version_minor": 0
      },
      "text/plain": [
       "Validation: |                                                                                    | 0/? [00:00<…"
      ]
     },
     "metadata": {},
     "output_type": "display_data"
    },
    {
     "name": "stdout",
     "output_type": "stream",
     "text": [
      "val loss before training 0.23598453\n"
     ]
    }
   ],
   "source": [
    "trainer.validate(model=pl_model, dataloaders=val_loader)\n",
    "print(\"val loss before training\", np.mean(np.array(los)))"
   ]
  },
  {
   "cell_type": "code",
   "execution_count": 25,
   "id": "02e57a35-9d20-4c4c-8344-c5ac2dfd4bb9",
   "metadata": {},
   "outputs": [
    {
     "name": "stderr",
     "output_type": "stream",
     "text": [
      "GPU available: False, used: False\n",
      "TPU available: False, using: 0 TPU cores\n",
      "HPU available: False, using: 0 HPUs\n",
      "\n",
      "  | Name         | Type              | Params | Mode \n",
      "-----------------------------------------------------------\n",
      "0 | model        | SwinTransformer   | 27.9 M | train\n",
      "1 | triplet_loss | TripletMarginLoss | 0      | eval \n",
      "-----------------------------------------------------------\n",
      "27.9 M    Trainable params\n",
      "0         Non-trainable params\n",
      "27.9 M    Total params\n",
      "111.652   Total estimated model params size (MB)\n",
      "181       Modules in train mode\n",
      "1         Modules in eval mode\n"
     ]
    },
    {
     "data": {
      "application/vnd.jupyter.widget-view+json": {
       "model_id": "",
       "version_major": 2,
       "version_minor": 0
      },
      "text/plain": [
       "Sanity Checking: |                                                                               | 0/? [00:00<…"
      ]
     },
     "metadata": {},
     "output_type": "display_data"
    },
    {
     "data": {
      "application/vnd.jupyter.widget-view+json": {
       "model_id": "b630eb51ea3a4dbba5bb0aff0a1379e6",
       "version_major": 2,
       "version_minor": 0
      },
      "text/plain": [
       "Training: |                                                                                      | 0/? [00:00<…"
      ]
     },
     "metadata": {},
     "output_type": "display_data"
    },
    {
     "data": {
      "application/vnd.jupyter.widget-view+json": {
       "model_id": "",
       "version_major": 2,
       "version_minor": 0
      },
      "text/plain": [
       "Validation: |                                                                                    | 0/? [00:00<…"
      ]
     },
     "metadata": {},
     "output_type": "display_data"
    },
    {
     "data": {
      "application/vnd.jupyter.widget-view+json": {
       "model_id": "",
       "version_major": 2,
       "version_minor": 0
      },
      "text/plain": [
       "Validation: |                                                                                    | 0/? [00:00<…"
      ]
     },
     "metadata": {},
     "output_type": "display_data"
    },
    {
     "data": {
      "application/vnd.jupyter.widget-view+json": {
       "model_id": "",
       "version_major": 2,
       "version_minor": 0
      },
      "text/plain": [
       "Validation: |                                                                                    | 0/? [00:00<…"
      ]
     },
     "metadata": {},
     "output_type": "display_data"
    },
    {
     "data": {
      "application/vnd.jupyter.widget-view+json": {
       "model_id": "",
       "version_major": 2,
       "version_minor": 0
      },
      "text/plain": [
       "Validation: |                                                                                    | 0/? [00:00<…"
      ]
     },
     "metadata": {},
     "output_type": "display_data"
    },
    {
     "name": "stderr",
     "output_type": "stream",
     "text": [
      "`Trainer.fit` stopped: `max_epochs=4` reached.\n"
     ]
    },
    {
     "data": {
      "application/vnd.jupyter.widget-view+json": {
       "model_id": "cfaa1f5ea9ab49988c7825003e270194",
       "version_major": 2,
       "version_minor": 0
      },
      "text/plain": [
       "Validation: |                                                                                    | 0/? [00:00<…"
      ]
     },
     "metadata": {},
     "output_type": "display_data"
    },
    {
     "data": {
      "text/plain": [
       "[{}]"
      ]
     },
     "execution_count": 25,
     "metadata": {},
     "output_type": "execute_result"
    }
   ],
   "source": [
    "trainer = pl.Trainer(max_epochs = 4, accelerator=device)\n",
    "trainer.fit(model=pl_model, train_dataloaders=train_loader, val_dataloaders=val_loader)\n",
    "trainer.validate(model=pl_model, dataloaders=val_loader)"
   ]
  },
  {
   "cell_type": "code",
   "execution_count": 26,
   "id": "6ce3e390-a056-42d6-89fc-1c29de15f1ed",
   "metadata": {},
   "outputs": [
    {
     "name": "stdout",
     "output_type": "stream",
     "text": [
      "(927,)\n",
      "val loss after training 0.19994873\n"
     ]
    }
   ],
   "source": [
    "los=np.array(los)\n",
    "print(los.shape)\n",
    "print('val loss after training', np.mean(los[int(los.shape[0]-los.shape[0]/4):]))"
   ]
  },
  {
   "cell_type": "code",
   "execution_count": 27,
   "id": "7a845505-ee92-4a6f-b7b1-0a1904a91bf7",
   "metadata": {},
   "outputs": [
    {
     "data": {
      "text/plain": [
       "[<matplotlib.lines.Line2D at 0x227cb0afa10>]"
      ]
     },
     "execution_count": 27,
     "metadata": {},
     "output_type": "execute_result"
    },
    {
     "data": {
      "image/png": "[encoded data removed]",
      "text/plain": [
       "<Figure size 640x480 with 1 Axes>"
      ]
     },
     "metadata": {},
     "output_type": "display_data"
    }
   ],
   "source": [
    "plt.plot(los)"
   ]
  },
  {
   "cell_type": "markdown",
   "id": "43e3c15861f1df87",
   "metadata": {},
   "source": [
    "## Precision@k, Recall@k"
   ]
  },
  {
   "cell_type": "code",
   "execution_count": 14,
   "id": "bfc011a764aa54bc",
   "metadata": {},
   "outputs": [],
   "source": [
    "def precision_k(labels, embeds, index, k):\n",
    "    Distances, Indexes = index.search(embeds, k)\n",
    "    predicted_labels = train_labels[Indexes.flatten()]\n",
    "    return np.sum([labels[i] in predicted_labels[i * k : (i+1) * k] for i in range(labels.shape[0])]) / (labels.shape[0] * k)\n",
    "\n",
    "def recall_k(labels, embeds, index, k):\n",
    "    Distances, Indexes = index.search(embeds, k)\n",
    "    predicted_labels = train_labels[Indexes.flatten()]\n",
    "    return np.sum([labels[i] in predicted_labels[i * k : (i+1) * k] for i in range(labels.shape[0])]) / labels.shape[0]"
   ]
  },
  {
   "cell_type": "markdown",
   "id": "c1deac27a75a5d48",
   "metadata": {},
   "source": [
    "# Поиск похожих машин с Faiss\n"
   ]
  },
  {
   "cell_type": "code",
   "execution_count": 28,
   "id": "139bda3d65d954a4",
   "metadata": {},
   "outputs": [],
   "source": [
    "train_dataset = SimpleDataset(train_imgs, train_ids, val_transforms)\n",
    "train_loader = DataLoader(train_dataset, batch_size=16, shuffle=True,  pin_memory=True, drop_last = True)\n",
    "\n",
    "val_dataset = SimpleDataset(val_imgs, val_ids, val_transforms)\n",
    "val_loader = DataLoader(val_dataset, batch_size=16, shuffle=False, pin_memory=True)\n",
    "\n",
    "\n",
    "def embed(model, loader):\n",
    "    embeddings = np.empty((1,512))\n",
    "    labels = np.empty((1))\n",
    "    for batch in loader:\n",
    "        imgs = batch['image']\n",
    "        label = batch['label']\n",
    "        pl_model.to(DEVICE)\n",
    "        with torch.no_grad():\n",
    "            preds = model(imgs.to(DEVICE))\n",
    "        embeddings = np.concatenate([embeddings, preds.cpu().numpy()])\n",
    "        labels = np.concatenate([labels, np.array(label)])\n",
    "    return embeddings[1:].astype(np.float32), labels[1:]\n",
    "\n",
    "pl_model.eval()\n",
    "train_emb, train_labels = embed(pl_model, train_loader)\n",
    "val_emb, val_labels = embed(pl_model, val_loader)"
   ]
  },
  {
   "cell_type": "code",
   "execution_count": 29,
   "id": "746cf2449f30e0a",
   "metadata": {},
   "outputs": [
    {
     "name": "stdout",
     "output_type": "stream",
     "text": [
      "Recall @ 1 : 0.004909983633387889\n",
      "Precision @ 1 : 0.004909983633387889\n",
      "Recall @ 5 : 0.02495908346972177\n",
      "Precision @ 5 : 0.004991816693944354\n"
     ]
    }
   ],
   "source": [
    "import faiss     \n",
    "from sklearn.metrics import recall_score\n",
    "from sklearn.metrics import precision_score\n",
    "\n",
    "index = faiss.IndexFlatL2(512)   \n",
    "index.add(train_emb)                \n",
    "\n",
    "for k in [1,5]:\n",
    "    print(f'Recall @ {k} : {recall_k(val_labels, val_emb, index, k)}')\n",
    "    print(f'Precision @ {k} : {precision_k(val_labels, val_emb, index, k)}')"
   ]
  },
  {
   "cell_type": "markdown",
   "id": "7af7033c-c466-48bc-a579-a218aaa2b6ac",
   "metadata": {},
   "source": []
  }
 ],
 "metadata": {
  "kernelspec": {
   "display_name": "Python 3 (ipykernel)",
   "language": "python",
   "name": "python3"
  },
  "language_info": {
   "codemirror_mode": {
    "name": "ipython",
    "version": 3
   },
   "file_extension": ".py",
   "mimetype": "text/x-python",
   "name": "python",
   "nbconvert_exporter": "python",
   "pygments_lexer": "ipython3",
   "version": "3.12.4"
  }
 },
 "nbformat": 4,
 "nbformat_minor": 5
}
