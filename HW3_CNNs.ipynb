{
 "cells": [
  {
   "cell_type": "code",
   "execution_count": 1,
   "id": "b70797ac-5ed9-4bac-a031-c4ff496294eb",
   "metadata": {},
   "outputs": [],
   "source": [
    "import numpy as np\n",
    "import pandas as pd\n",
    "import matplotlib.pyplot as plt\n",
    "%matplotlib inline\n",
    "import cv2\n",
    "import sklearn\n",
    "import PIL\n",
    "import torch\n",
    "import torchvision\n",
    "from matplotlib import cm\n",
    "import torch.nn as nn\n",
    "import torch.optim as optim\n",
    "import torchvision\n",
    "import torchvision.transforms as transforms\n",
    "from torchvision.datasets import ImageFolder\n",
    "from torch.utils.data import DataLoader, random_split\n",
    "import os\n",
    "from tqdm import tqdm\n",
    "from torch.utils.tensorboard import SummaryWriter\n",
    "import warnings\n",
    "warnings.filterwarnings('ignore')\n",
    "from layers import Linear, Sigmoid, NeuralNetwork  # Results from Seminar 1"
   ]
  },
  {
   "cell_type": "code",
   "execution_count": 51,
   "id": "c474b0df-ab9b-43a5-a84a-1bc6db2bd557",
   "metadata": {},
   "outputs": [],
   "source": [
    "data_dir= 'C:\\\\Users\\\\Alex\\\\Downloads\\\\indoor_outdoor_dataset'\n",
    "#data_outdore = 'C:\\Users\\Alex\\Downloads\\indoor_outdoor_dataset\\outdore'\n",
    "\n",
    "transform = transforms.Compose([\n",
    "    transforms.Resize((64, 64)),   \n",
    "    transforms.ToTensor(),           \n",
    "    transforms.Normalize(mean=[0.5, 0.5, 0.5], \n",
    "                         std=[0.5, 0.5, 0.5])  \n",
    "])\n",
    "\n",
    "full_data = ImageFolder(data_dir, transform=transform)\n",
    "\n",
    "train_size = int(1*int(0.8 * len(full_data)))\n",
    "val_size = int(1*int(0.1 * len(full_data)))\n",
    "test_size = int(1*(len(full_data) - train_size - val_size))\n",
    "oth=len(full_data)-train_size-test_size-val_size\n",
    "train_data, val_data, test_data,_ = random_split(full_data, [train_size, val_size, test_size, oth])\n",
    "\n",
    "train_loader = DataLoader(train_data, batch_size=32, shuffle=True)\n",
    "val_loader = DataLoader(val_data, batch_size=32, shuffle=False)\n",
    "test_loader = DataLoader(test_data, batch_size=32, shuffle=False)"
   ]
  },
  {
   "cell_type": "code",
   "execution_count": 52,
   "id": "7ce56f4f-7b8d-4b03-8cc3-6d958339b1f5",
   "metadata": {},
   "outputs": [
    {
     "name": "stdout",
     "output_type": "stream",
     "text": [
      "10264\n"
     ]
    }
   ],
   "source": [
    "print(len(train_loader))"
   ]
  },
  {
   "cell_type": "code",
   "execution_count": 54,
   "id": "6244c34c-fdab-4c66-ab7f-68630d48ac7c",
   "metadata": {},
   "outputs": [],
   "source": [
    "writer = SummaryWriter('runs/indoor-outdoor')"
   ]
  },
  {
   "cell_type": "code",
   "execution_count": 55,
   "id": "e48ac7f2-00d5-4ae6-a787-1e454e221f9d",
   "metadata": {},
   "outputs": [],
   "source": [
    "def save_checkpoint(state, filename='checkpoint.pth'):\n",
    "    \"\"\"Сохранение состояния модели\"\"\"\n",
    "    torch.save(state, filename)\n",
    "\n",
    "\n",
    "def train_model(model, train_loader, val_loader, criterion, optimizer, num_epochs=10, plot=True):\n",
    "    best_val_acc = 0.0\n",
    "    train_loss_epochs = []\n",
    "    val_loss_epochs = []\n",
    "    train_accuracy_epochs = []\n",
    "    val_accuracy_epochs = []\n",
    "    try:\n",
    "        for epoch in tqdm(range(num_epochs)):\n",
    "            model.train()\n",
    "            running_loss = 0.0\n",
    "            correct = 0\n",
    "            total = 0\n",
    "            \n",
    "            for inputs, labels in train_loader:\n",
    "                inputs, labels = inputs.to(device), labels.to(device).float().view(-1, 1)\n",
    "                optimizer.zero_grad()        \n",
    "                outputs = model(inputs)\n",
    "                loss = criterion(outputs, labels)      \n",
    "                loss.backward()\n",
    "                optimizer.step()           \n",
    "                running_loss += loss.item()\n",
    "                predicted = (outputs > 0.5).float()\n",
    "                correct += (predicted == labels).sum().item()\n",
    "                total += labels.size(0)\n",
    "            \n",
    "            train_loss = running_loss / len(train_loader)\n",
    "            train_acc = correct / total\n",
    "            val_loss, val_acc = evaluate_model(model, val_loader, criterion)\n",
    "\n",
    "            train_loss_epochs.append(train_loss)\n",
    "            train_accuracy_epochs.append(train_acc)\n",
    "            val_loss_epochs.append(val_loss)\n",
    "            val_accuracy_epochs.append(val_acc)\n",
    "            \n",
    "            print(f'Epoch [{epoch+1}/{num_epochs}], Loss: {train_loss:.4f}, Accuracy: {train_acc:.4f}, '\n",
    "                  f'Val Loss: {val_loss:.4f}, Val Accuracy: {val_acc:.4f}')\n",
    "            \n",
    "            writer.add_scalar('Loss/train', train_loss, epoch)\n",
    "            writer.add_scalar('Accuracy/train', train_acc, epoch)\n",
    "            writer.add_scalar('Loss/val', val_loss, epoch)\n",
    "            writer.add_scalar('Accuracy/val', val_acc, epoch)\n",
    "            \n",
    "    \n",
    "            if val_acc > best_val_acc:\n",
    "                print(f'Validation accuracy improved from {best_val_acc:.4f} to {val_acc:.4f}. Saving model...')\n",
    "                best_val_acc = val_acc\n",
    "                \n",
    "                checkpoint = {\n",
    "                    'epoch': epoch + 1,\n",
    "                    'model_state_dict': model.state_dict(),\n",
    "                    'optimizer_state_dict': optimizer.state_dict(),\n",
    "                    'loss': val_loss,\n",
    "                    'accuracy': val_acc\n",
    "                }\n",
    "                save_checkpoint(checkpoint, 'cnn_best_checkpoint.pth')\n",
    "        if plot:\n",
    "                plt.figure(figsize=(12, 5))\n",
    "                plt.subplot(1, 2, 1)\n",
    "                plt.plot(train_loss_epochs, label='Train')\n",
    "                plt.plot(val_loss_epochs, label='Val')\n",
    "                plt.xlabel('Epochs', fontsize=16)\n",
    "                plt.ylabel('Loss', fontsize=16)\n",
    "                plt.legend(loc=0, fontsize=16)\n",
    "                plt.grid('on')\n",
    "                plt.subplot(1, 2, 2)\n",
    "                plt.plot(train_accuracy_epochs, label='Train accuracy')\n",
    "                plt.plot(val_accuracy_epochs, label='Val accuracy')\n",
    "                plt.xlabel('Epochs', fontsize=16)\n",
    "                plt.ylabel('Accuracy', fontsize=16)\n",
    "                plt.legend(loc=0, fontsize=16)\n",
    "                plt.grid('on')\n",
    "                plt.show()\n",
    "    except KeyboardInterrupt:\n",
    "        pass\n",
    "    return train_loss, \\\n",
    "           val_loss, \\\n",
    "           train_acc, \\\n",
    "           val_acc\n",
    "            \n",
    "    \n",
    "def evaluate_model(model, loader, criterion):\n",
    "    model.eval()\n",
    "    running_loss = 0.0\n",
    "    correct = 0\n",
    "    total = 0\n",
    "    \n",
    "    with torch.no_grad():\n",
    "        for inputs, labels in loader:\n",
    "            inputs, labels = inputs.to(device), labels.to(device).float().view(-1, 1)\n",
    "\n",
    "            outputs = model(inputs)\n",
    "            loss = criterion(outputs, labels)\n",
    "            \n",
    "            running_loss += loss.item()\n",
    "            predicted = (outputs > 0.5).float()\n",
    "            correct += (predicted == labels).sum().item()\n",
    "            total += labels.size(0)\n",
    "    \n",
    "    loss = running_loss / len(loader)\n",
    "    accuracy = correct / total\n",
    "    print(\"accuracy=\", accuracy)\n",
    "    return loss, accuracy"
   ]
  },
  {
   "cell_type": "code",
   "execution_count": 57,
   "id": "cc930544-29a4-4c02-9566-44bb97cf0c9a",
   "metadata": {},
   "outputs": [
    {
     "name": "stderr",
     "output_type": "stream",
     "text": [
      " 10%|███████▉                                                                       | 1/10 [32:18<4:50:50, 1938.98s/it]"
     ]
    },
    {
     "name": "stdout",
     "output_type": "stream",
     "text": [
      "accuracy= 0.8888726493228101\n",
      "Epoch [1/10], Loss: 0.3353, Accuracy: 0.8589, Val Loss: 0.2715, Val Accuracy: 0.8889\n",
      "Validation accuracy improved from 0.0000 to 0.8889. Saving model...\n"
     ]
    },
    {
     "name": "stderr",
     "output_type": "stream",
     "text": [
      " 20%|███████████████▍                                                             | 2/10 [1:04:42<4:18:55, 1941.88s/it]"
     ]
    },
    {
     "name": "stdout",
     "output_type": "stream",
     "text": [
      "accuracy= 0.9022702913378154\n",
      "Epoch [2/10], Loss: 0.2687, Accuracy: 0.8931, Val Loss: 0.2453, Val Accuracy: 0.9023\n",
      "Validation accuracy improved from 0.8889 to 0.9023. Saving model...\n"
     ]
    },
    {
     "name": "stderr",
     "output_type": "stream",
     "text": [
      " 30%|███████████████████████                                                      | 3/10 [1:37:11<3:46:55, 1945.03s/it]"
     ]
    },
    {
     "name": "stdout",
     "output_type": "stream",
     "text": [
      "accuracy= 0.9039754457760889\n",
      "Epoch [3/10], Loss: 0.2443, Accuracy: 0.9041, Val Loss: 0.2427, Val Accuracy: 0.9040\n",
      "Validation accuracy improved from 0.9023 to 0.9040. Saving model...\n"
     ]
    },
    {
     "name": "stderr",
     "output_type": "stream",
     "text": [
      " 40%|██████████████████████████████▊                                              | 4/10 [2:09:44<3:14:49, 1948.20s/it]"
     ]
    },
    {
     "name": "stdout",
     "output_type": "stream",
     "text": [
      "accuracy= 0.9106255480853551\n",
      "Epoch [4/10], Loss: 0.2301, Accuracy: 0.9100, Val Loss: 0.2370, Val Accuracy: 0.9106\n",
      "Validation accuracy improved from 0.9040 to 0.9106. Saving model...\n"
     ]
    },
    {
     "name": "stderr",
     "output_type": "stream",
     "text": [
      " 50%|██████████████████████████████████████▌                                      | 5/10 [2:41:56<2:41:52, 1942.42s/it]"
     ]
    },
    {
     "name": "stdout",
     "output_type": "stream",
     "text": [
      "accuracy= 0.9171294942999123\n",
      "Epoch [5/10], Loss: 0.2204, Accuracy: 0.9145, Val Loss: 0.2162, Val Accuracy: 0.9171\n",
      "Validation accuracy improved from 0.9106 to 0.9171. Saving model...\n"
     ]
    },
    {
     "name": "stderr",
     "output_type": "stream",
     "text": [
      " 60%|██████████████████████████████████████████████▏                              | 6/10 [3:14:10<2:09:18, 1939.57s/it]"
     ]
    },
    {
     "name": "stdout",
     "output_type": "stream",
     "text": [
      "accuracy= 0.9167397447140212\n",
      "Epoch [6/10], Loss: 0.2131, Accuracy: 0.9177, Val Loss: 0.2170, Val Accuracy: 0.9167\n"
     ]
    },
    {
     "name": "stderr",
     "output_type": "stream",
     "text": [
      " 70%|█████████████████████████████████████████████████████▉                       | 7/10 [3:46:36<1:37:04, 1941.60s/it]"
     ]
    },
    {
     "name": "stdout",
     "output_type": "stream",
     "text": [
      "accuracy= 0.9166179479684303\n",
      "Epoch [7/10], Loss: 0.2061, Accuracy: 0.9206, Val Loss: 0.2148, Val Accuracy: 0.9166\n"
     ]
    },
    {
     "name": "stderr",
     "output_type": "stream",
     "text": [
      " 80%|█████████████████████████████████████████████████████████████▌               | 8/10 [4:18:39<1:04:31, 1935.60s/it]"
     ]
    },
    {
     "name": "stdout",
     "output_type": "stream",
     "text": [
      "accuracy= 0.9210757088570594\n",
      "Epoch [8/10], Loss: 0.2009, Accuracy: 0.9226, Val Loss: 0.2055, Val Accuracy: 0.9211\n",
      "Validation accuracy improved from 0.9171 to 0.9211. Saving model...\n"
     ]
    },
    {
     "name": "stderr",
     "output_type": "stream",
     "text": [
      " 90%|███████████████████████████████████████████████████████████████████████        | 9/10 [4:50:45<32:12, 1932.54s/it]"
     ]
    },
    {
     "name": "stdout",
     "output_type": "stream",
     "text": [
      "accuracy= 0.9209295527623502\n",
      "Epoch [9/10], Loss: 0.1955, Accuracy: 0.9249, Val Loss: 0.2032, Val Accuracy: 0.9209\n"
     ]
    },
    {
     "name": "stderr",
     "output_type": "stream",
     "text": [
      "100%|██████████████████████████████████████████████████████████████████████████████| 10/10 [5:22:52<00:00, 1937.26s/it]"
     ]
    },
    {
     "name": "stdout",
     "output_type": "stream",
     "text": [
      "accuracy= 0.9211975056026503\n",
      "Epoch [10/10], Loss: 0.1915, Accuracy: 0.9266, Val Loss: 0.2047, Val Accuracy: 0.9212\n",
      "Validation accuracy improved from 0.9211 to 0.9212. Saving model...\n"
     ]
    },
    {
     "name": "stderr",
     "output_type": "stream",
     "text": [
      "\n"
     ]
    },
    {
     "data": {
      "image/png": "[encoded data removed]",
      "text/plain": [
       "<Figure size 1200x500 with 2 Axes>"
      ]
     },
     "metadata": {},
     "output_type": "display_data"
    },
    {
     "name": "stdout",
     "output_type": "stream",
     "text": [
      "accuracy= 0.9188122670693981\n"
     ]
    },
    {
     "data": {
      "text/plain": [
       "(0.20609368899124308, 0.9188122670693981)"
      ]
     },
     "execution_count": 57,
     "metadata": {},
     "output_type": "execute_result"
    }
   ],
   "source": [
    "import torch\n",
    "import torch.nn as nn\n",
    "import torch.nn.functional as F\n",
    "\n",
    "class MBConvBlock(nn.Module):\n",
    "    def __init__(self, in_channels, out_channels, kernel_size, stride, expansion_factor):\n",
    "        super(MBConvBlock, self).__init__()\n",
    "        self.in_channels = in_channels\n",
    "        self.out_channels = out_channels\n",
    "        self.kernel_size = kernel_size\n",
    "        self.stride = stride\n",
    "        self.expansion_factor = expansion_factor\n",
    "\n",
    "        self.conv1 = nn.Conv2d(in_channels, in_channels * expansion_factor, kernel_size=1, bias=False)\n",
    "        self.bn1 = nn.BatchNorm2d(in_channels * expansion_factor)\n",
    "        self.conv2 = nn.Conv2d(in_channels * expansion_factor, in_channels * expansion_factor, kernel_size=kernel_size, stride=stride, padding=(kernel_size - 1) // 2, groups=in_channels * expansion_factor, bias=False)\n",
    "        self.bn2 = nn.BatchNorm2d(in_channels * expansion_factor)\n",
    "        self.conv3 = nn.Conv2d(in_channels * expansion_factor, out_channels, kernel_size=1, bias=False)\n",
    "        self.bn3 = nn.BatchNorm2d(out_channels)\n",
    "        self.relu = nn.ReLU6()\n",
    "\n",
    "    def forward(self, x):\n",
    "        iden=x\n",
    "        x = self.relu(self.bn1(self.conv1(x)))\n",
    "        x = self.relu(self.bn2(self.conv2(x)))\n",
    "        x = self.bn3(self.conv3(x))\n",
    "        if self.in_channels == self.out_channels and self.stride == 1:\n",
    "            x = x + ident\n",
    "        return x\n",
    "\n",
    "class EfficientNet(nn.Module):\n",
    "    def __init__(self, num_classes=1, width_coefficient=1.1, depth_coefficient=1.2, dropout_rate=0.3):\n",
    "        super(EfficientNet, self).__init__()\n",
    "        self.num_classes = num_classes\n",
    "        self.width_coefficient = width_coefficient\n",
    "        self.depth_coefficient = depth_coefficient\n",
    "        self.dropout_rate = dropout_rate\n",
    "\n",
    "        self.stem = nn.Sequential(\n",
    "            nn.Conv2d(3, 32, kernel_size=3, stride=2, padding=1, bias=False),\n",
    "            nn.BatchNorm2d(32),\n",
    "            nn.ReLU6()\n",
    "        )\n",
    "\n",
    "        self.blocks = nn.ModuleList([\n",
    "            MBConvBlock(32, 16, 3, 1, 1),\n",
    "            MBConvBlock(16, 24, 3, 2, 6),\n",
    "            MBConvBlock(24, 40, 5, 2, 6),\n",
    "            MBConvBlock(40, 80, 3, 2, 6),\n",
    "            MBConvBlock(80, 112, 5, 1, 6),\n",
    "            MBConvBlock(112, 192, 5, 2, 6),\n",
    "            MBConvBlock(192, 320, 3, 1, 6)\n",
    "        ])\n",
    "\n",
    "        self.head = nn.Sequential(\n",
    "            nn.Conv2d(320, 1280, kernel_size=1, bias=False),\n",
    "            nn.BatchNorm2d(1280),\n",
    "            nn.ReLU6(),\n",
    "            nn.AdaptiveAvgPool2d((1, 1)),\n",
    "            nn.Flatten(),\n",
    "            nn.Dropout(dropout_rate),\n",
    "            nn.Linear(1280, num_classes),\n",
    "            nn.Sigmoid()\n",
    "        )\n",
    "\n",
    "    def forward(self, x):\n",
    "        x = self.stem(x)\n",
    "        for block in self.blocks:\n",
    "            x = block(x)\n",
    "        x = self.head(x)\n",
    "        return x\n",
    "\n",
    "\n",
    "device = torch.device('cuda' if torch.cuda.is_available() else 'cpu')\n",
    "model=EfficientNet().to(device)\n",
    "cost=nn.BCELoss()\n",
    "optimizer=torch.optim.Adam(model.parameters())\n",
    "train_model(model, train_loader, val_loader, cost,optimizer, num_epochs=10)\n",
    "evaluate_model(model,test_loader,cost)"
   ]
  },
  {
   "cell_type": "code",
   "execution_count": 59,
   "id": "b274c924-58c8-4cff-9fa2-cee66e6dc5f4",
   "metadata": {},
   "outputs": [
    {
     "name": "stdout",
     "output_type": "stream",
     "text": [
      "Количество обучаемых параметров: 1402945\n"
     ]
    }
   ],
   "source": [
    "num_params = sum(p.numel() for p in model.parameters() if p.requires_grad)\n",
    "print(f\"Количество обучаемых параметров: {num_params}\")"
   ]
  },
  {
   "cell_type": "code",
   "execution_count": 63,
   "id": "430f12c3-9494-47cf-ad99-1f516d91e699",
   "metadata": {},
   "outputs": [
    {
     "name": "stdout",
     "output_type": "stream",
     "text": [
      "f1= 0.9188122670693981\n"
     ]
    },
    {
     "data": {
      "text/plain": [
       "(0.9097266101380462, 0.9188122670693981)"
      ]
     },
     "execution_count": 63,
     "metadata": {},
     "output_type": "execute_result"
    }
   ],
   "source": [
    "from sklearn.metrics import f1_score\n",
    "\n",
    "def evaluate_model2(model, loader, criterion):\n",
    "    model.eval()\n",
    "    running_loss = 0.0\n",
    "    correct = 0\n",
    "    total = 0\n",
    "    \n",
    "    with torch.no_grad():\n",
    "        for inputs, labels in loader:\n",
    "            inputs, labels = inputs.to(device), labels.to(device).float().view(-1, 1)\n",
    "\n",
    "            outputs = model(inputs)\n",
    "            predicted = (outputs > 0.5).float()\n",
    "            loss = criterion(predicted, labels)\n",
    "            \n",
    "            running_loss += loss.item()\n",
    "            predicted = (outputs > 0.5).float()\n",
    "            correct += (predicted == labels).sum().item()\n",
    "            total += labels.size(0)\n",
    "    \n",
    "    loss = running_loss / len(loader)\n",
    "    accuracy = correct / total\n",
    "    print(\"f1=\", accuracy)\n",
    "    return loss, accuracy\n",
    "    \n",
    "evaluate_model2(model,test_loader,f1_score)"
   ]
  },
  {
   "cell_type": "markdown",
   "id": "029b3ece-e03b-4995-90b2-4802ddec7e82",
   "metadata": {},
   "source": [
    "Что помогло: \n",
    "1) Добавление слоев с Skip-connection, как метод борьбы с затухающим градиентом;\n",
    "2) Compound scaling, который пропорционально масштабирует ширину, глубину и разрешение сети;\n",
    "3) Регуляризация в виде Dropot и BatchNorm;\n",
    "4) Свертки 1 на 1 для уменьшения/увеличения размерности(числа каналов)"
   ]
  },
  {
   "cell_type": "markdown",
   "id": "093f412c-91e5-4e18-b453-16b3a4c35019",
   "metadata": {},
   "source": [
    "## Менее эффективные модели ( ResNet, VGG, AlexNet, LeNet)"
   ]
  },
  {
   "cell_type": "code",
   "execution_count": 37,
   "id": "abb3ee4e-df6d-40da-9b14-343dcb531f21",
   "metadata": {},
   "outputs": [
    {
     "name": "stderr",
     "output_type": "stream",
     "text": [
      "  5%|████                                                                            | 1/20 [03:42<1:10:34, 222.86s/it]"
     ]
    },
    {
     "name": "stdout",
     "output_type": "stream",
     "text": [
      "accuracy= 0.8114035087719298\n",
      "Epoch [1/20], Loss: 0.5118, Accuracy: 0.7629, Val Loss: 0.4551, Val Accuracy: 0.8114\n"
     ]
    },
    {
     "name": "stderr",
     "output_type": "stream",
     "text": [
      " 10%|████████                                                                        | 2/20 [07:27<1:07:14, 224.13s/it]"
     ]
    },
    {
     "name": "stdout",
     "output_type": "stream",
     "text": [
      "accuracy= 0.7943469785575049\n",
      "Epoch [2/20], Loss: 0.4580, Accuracy: 0.7963, Val Loss: 0.4658, Val Accuracy: 0.7943\n"
     ]
    },
    {
     "name": "stderr",
     "output_type": "stream",
     "text": [
      " 15%|████████████                                                                    | 3/20 [11:06<1:02:45, 221.48s/it]"
     ]
    },
    {
     "name": "stdout",
     "output_type": "stream",
     "text": [
      "accuracy= 0.7811890838206628\n",
      "Epoch [3/20], Loss: 0.4332, Accuracy: 0.8091, Val Loss: 0.4533, Val Accuracy: 0.7812\n"
     ]
    },
    {
     "name": "stderr",
     "output_type": "stream",
     "text": [
      " 20%|████████████████▍                                                                 | 4/20 [14:40<58:19, 218.75s/it]"
     ]
    },
    {
     "name": "stdout",
     "output_type": "stream",
     "text": [
      "accuracy= 0.8347953216374269\n",
      "Epoch [4/20], Loss: 0.4172, Accuracy: 0.8181, Val Loss: 0.3809, Val Accuracy: 0.8348\n"
     ]
    },
    {
     "name": "stderr",
     "output_type": "stream",
     "text": [
      " 25%|████████████████████▌                                                             | 5/20 [18:14<54:13, 216.92s/it]"
     ]
    },
    {
     "name": "stdout",
     "output_type": "stream",
     "text": [
      "accuracy= 0.7953216374269005\n",
      "Epoch [5/20], Loss: 0.4093, Accuracy: 0.8265, Val Loss: 0.4570, Val Accuracy: 0.7953\n"
     ]
    },
    {
     "name": "stderr",
     "output_type": "stream",
     "text": [
      " 30%|████████████████████████▌                                                         | 6/20 [21:48<50:22, 215.91s/it]"
     ]
    },
    {
     "name": "stdout",
     "output_type": "stream",
     "text": [
      "accuracy= 0.8284600389863548\n",
      "Epoch [6/20], Loss: 0.4081, Accuracy: 0.8242, Val Loss: 0.3869, Val Accuracy: 0.8285\n"
     ]
    },
    {
     "name": "stderr",
     "output_type": "stream",
     "text": [
      " 35%|████████████████████████████▋                                                     | 7/20 [25:22<46:37, 215.18s/it]"
     ]
    },
    {
     "name": "stdout",
     "output_type": "stream",
     "text": [
      "accuracy= 0.830896686159844\n",
      "Epoch [7/20], Loss: 0.3784, Accuracy: 0.8413, Val Loss: 0.3848, Val Accuracy: 0.8309\n"
     ]
    },
    {
     "name": "stderr",
     "output_type": "stream",
     "text": [
      " 40%|████████████████████████████████▊                                                 | 8/20 [29:00<43:15, 216.26s/it]"
     ]
    },
    {
     "name": "stdout",
     "output_type": "stream",
     "text": [
      "accuracy= 0.854775828460039\n",
      "Epoch [8/20], Loss: 0.3666, Accuracy: 0.8442, Val Loss: 0.3551, Val Accuracy: 0.8548\n"
     ]
    },
    {
     "name": "stderr",
     "output_type": "stream",
     "text": [
      " 45%|████████████████████████████████████▉                                             | 9/20 [32:39<39:48, 217.13s/it]"
     ]
    },
    {
     "name": "stdout",
     "output_type": "stream",
     "text": [
      "accuracy= 0.8518518518518519\n",
      "Epoch [9/20], Loss: 0.3564, Accuracy: 0.8484, Val Loss: 0.3644, Val Accuracy: 0.8519\n"
     ]
    },
    {
     "name": "stderr",
     "output_type": "stream",
     "text": [
      " 50%|████████████████████████████████████████▌                                        | 10/20 [36:14<36:03, 216.38s/it]"
     ]
    },
    {
     "name": "stdout",
     "output_type": "stream",
     "text": [
      "accuracy= 0.8460038986354775\n",
      "Epoch [10/20], Loss: 0.3364, Accuracy: 0.8583, Val Loss: 0.3875, Val Accuracy: 0.8460\n"
     ]
    },
    {
     "name": "stderr",
     "output_type": "stream",
     "text": [
      " 55%|████████████████████████████████████████████▌                                    | 11/20 [39:48<32:19, 215.54s/it]"
     ]
    },
    {
     "name": "stdout",
     "output_type": "stream",
     "text": [
      "accuracy= 0.8430799220272904\n",
      "Epoch [11/20], Loss: 0.3271, Accuracy: 0.8656, Val Loss: 0.3765, Val Accuracy: 0.8431\n"
     ]
    },
    {
     "name": "stderr",
     "output_type": "stream",
     "text": [
      " 55%|████████████████████████████████████████████▌                                    | 11/20 [39:58<32:42, 218.03s/it]\n"
     ]
    },
    {
     "ename": "KeyboardInterrupt",
     "evalue": "",
     "output_type": "error",
     "traceback": [
      "\u001b[1;31m---------------------------------------------------------------------------\u001b[0m",
      "\u001b[1;31mKeyboardInterrupt\u001b[0m                         Traceback (most recent call last)",
      "Cell \u001b[1;32mIn[37], line 84\u001b[0m\n\u001b[0;32m     82\u001b[0m optimizer\u001b[38;5;241m=\u001b[39mtorch\u001b[38;5;241m.\u001b[39moptim\u001b[38;5;241m.\u001b[39mAdam(model\u001b[38;5;241m.\u001b[39mparameters())\n\u001b[0;32m     83\u001b[0m train_model(model, train_loader, val_loader, cost,optimizer, num_epochs\u001b[38;5;241m=\u001b[39m\u001b[38;5;241m20\u001b[39m)\n\u001b[1;32m---> 84\u001b[0m \u001b[43mevaluate_model\u001b[49m\u001b[43m(\u001b[49m\u001b[43mmodel\u001b[49m\u001b[43m,\u001b[49m\u001b[43mtest_loader\u001b[49m\u001b[43m,\u001b[49m\u001b[43mcost\u001b[49m\u001b[43m)\u001b[49m\n",
      "Cell \u001b[1;32mIn[34], line 93\u001b[0m, in \u001b[0;36mevaluate_model\u001b[1;34m(model, loader, criterion)\u001b[0m\n\u001b[0;32m     90\u001b[0m total \u001b[38;5;241m=\u001b[39m \u001b[38;5;241m0\u001b[39m\n\u001b[0;32m     92\u001b[0m \u001b[38;5;28;01mwith\u001b[39;00m torch\u001b[38;5;241m.\u001b[39mno_grad():\n\u001b[1;32m---> 93\u001b[0m \u001b[43m    \u001b[49m\u001b[38;5;28;43;01mfor\u001b[39;49;00m\u001b[43m \u001b[49m\u001b[43minputs\u001b[49m\u001b[43m,\u001b[49m\u001b[43m \u001b[49m\u001b[43mlabels\u001b[49m\u001b[43m \u001b[49m\u001b[38;5;129;43;01min\u001b[39;49;00m\u001b[43m \u001b[49m\u001b[43mloader\u001b[49m\u001b[43m:\u001b[49m\n\u001b[0;32m     94\u001b[0m \u001b[43m        \u001b[49m\u001b[43minputs\u001b[49m\u001b[43m,\u001b[49m\u001b[43m \u001b[49m\u001b[43mlabels\u001b[49m\u001b[43m \u001b[49m\u001b[38;5;241;43m=\u001b[39;49m\u001b[43m \u001b[49m\u001b[43minputs\u001b[49m\u001b[38;5;241;43m.\u001b[39;49m\u001b[43mto\u001b[49m\u001b[43m(\u001b[49m\u001b[43mdevice\u001b[49m\u001b[43m)\u001b[49m\u001b[43m,\u001b[49m\u001b[43m \u001b[49m\u001b[43mlabels\u001b[49m\u001b[38;5;241;43m.\u001b[39;49m\u001b[43mto\u001b[49m\u001b[43m(\u001b[49m\u001b[43mdevice\u001b[49m\u001b[43m)\u001b[49m\u001b[38;5;241;43m.\u001b[39;49m\u001b[43mfloat\u001b[49m\u001b[43m(\u001b[49m\u001b[43m)\u001b[49m\u001b[38;5;241;43m.\u001b[39;49m\u001b[43mview\u001b[49m\u001b[43m(\u001b[49m\u001b[38;5;241;43m-\u001b[39;49m\u001b[38;5;241;43m1\u001b[39;49m\u001b[43m,\u001b[49m\u001b[43m \u001b[49m\u001b[38;5;241;43m1\u001b[39;49m\u001b[43m)\u001b[49m\n\u001b[0;32m     96\u001b[0m \u001b[43m        \u001b[49m\u001b[43moutputs\u001b[49m\u001b[43m \u001b[49m\u001b[38;5;241;43m=\u001b[39;49m\u001b[43m \u001b[49m\u001b[43mmodel\u001b[49m\u001b[43m(\u001b[49m\u001b[43minputs\u001b[49m\u001b[43m)\u001b[49m\n",
      "File \u001b[1;32m~\\AppData\\Local\\Programs\\Python\\Python312\\Lib\\site-packages\\torch\\utils\\data\\dataloader.py:630\u001b[0m, in \u001b[0;36m_BaseDataLoaderIter.__next__\u001b[1;34m(self)\u001b[0m\n\u001b[0;32m    627\u001b[0m \u001b[38;5;28;01mif\u001b[39;00m \u001b[38;5;28mself\u001b[39m\u001b[38;5;241m.\u001b[39m_sampler_iter \u001b[38;5;129;01mis\u001b[39;00m \u001b[38;5;28;01mNone\u001b[39;00m:\n\u001b[0;32m    628\u001b[0m     \u001b[38;5;66;03m# TODO(https://github.com/pytorch/pytorch/issues/76750)\u001b[39;00m\n\u001b[0;32m    629\u001b[0m     \u001b[38;5;28mself\u001b[39m\u001b[38;5;241m.\u001b[39m_reset()  \u001b[38;5;66;03m# type: ignore[call-arg]\u001b[39;00m\n\u001b[1;32m--> 630\u001b[0m data \u001b[38;5;241m=\u001b[39m \u001b[38;5;28;43mself\u001b[39;49m\u001b[38;5;241;43m.\u001b[39;49m\u001b[43m_next_data\u001b[49m\u001b[43m(\u001b[49m\u001b[43m)\u001b[49m\n\u001b[0;32m    631\u001b[0m \u001b[38;5;28mself\u001b[39m\u001b[38;5;241m.\u001b[39m_num_yielded \u001b[38;5;241m+\u001b[39m\u001b[38;5;241m=\u001b[39m \u001b[38;5;241m1\u001b[39m\n\u001b[0;32m    632\u001b[0m \u001b[38;5;28;01mif\u001b[39;00m \u001b[38;5;28mself\u001b[39m\u001b[38;5;241m.\u001b[39m_dataset_kind \u001b[38;5;241m==\u001b[39m _DatasetKind\u001b[38;5;241m.\u001b[39mIterable \u001b[38;5;129;01mand\u001b[39;00m \\\n\u001b[0;32m    633\u001b[0m         \u001b[38;5;28mself\u001b[39m\u001b[38;5;241m.\u001b[39m_IterableDataset_len_called \u001b[38;5;129;01mis\u001b[39;00m \u001b[38;5;129;01mnot\u001b[39;00m \u001b[38;5;28;01mNone\u001b[39;00m \u001b[38;5;129;01mand\u001b[39;00m \\\n\u001b[0;32m    634\u001b[0m         \u001b[38;5;28mself\u001b[39m\u001b[38;5;241m.\u001b[39m_num_yielded \u001b[38;5;241m>\u001b[39m \u001b[38;5;28mself\u001b[39m\u001b[38;5;241m.\u001b[39m_IterableDataset_len_called:\n",
      "File \u001b[1;32m~\\AppData\\Local\\Programs\\Python\\Python312\\Lib\\site-packages\\torch\\utils\\data\\dataloader.py:673\u001b[0m, in \u001b[0;36m_SingleProcessDataLoaderIter._next_data\u001b[1;34m(self)\u001b[0m\n\u001b[0;32m    671\u001b[0m \u001b[38;5;28;01mdef\u001b[39;00m \u001b[38;5;21m_next_data\u001b[39m(\u001b[38;5;28mself\u001b[39m):\n\u001b[0;32m    672\u001b[0m     index \u001b[38;5;241m=\u001b[39m \u001b[38;5;28mself\u001b[39m\u001b[38;5;241m.\u001b[39m_next_index()  \u001b[38;5;66;03m# may raise StopIteration\u001b[39;00m\n\u001b[1;32m--> 673\u001b[0m     data \u001b[38;5;241m=\u001b[39m \u001b[38;5;28;43mself\u001b[39;49m\u001b[38;5;241;43m.\u001b[39;49m\u001b[43m_dataset_fetcher\u001b[49m\u001b[38;5;241;43m.\u001b[39;49m\u001b[43mfetch\u001b[49m\u001b[43m(\u001b[49m\u001b[43mindex\u001b[49m\u001b[43m)\u001b[49m  \u001b[38;5;66;03m# may raise StopIteration\u001b[39;00m\n\u001b[0;32m    674\u001b[0m     \u001b[38;5;28;01mif\u001b[39;00m \u001b[38;5;28mself\u001b[39m\u001b[38;5;241m.\u001b[39m_pin_memory:\n\u001b[0;32m    675\u001b[0m         data \u001b[38;5;241m=\u001b[39m _utils\u001b[38;5;241m.\u001b[39mpin_memory\u001b[38;5;241m.\u001b[39mpin_memory(data, \u001b[38;5;28mself\u001b[39m\u001b[38;5;241m.\u001b[39m_pin_memory_device)\n",
      "File \u001b[1;32m~\\AppData\\Local\\Programs\\Python\\Python312\\Lib\\site-packages\\torch\\utils\\data\\_utils\\fetch.py:50\u001b[0m, in \u001b[0;36m_MapDatasetFetcher.fetch\u001b[1;34m(self, possibly_batched_index)\u001b[0m\n\u001b[0;32m     48\u001b[0m \u001b[38;5;28;01mif\u001b[39;00m \u001b[38;5;28mself\u001b[39m\u001b[38;5;241m.\u001b[39mauto_collation:\n\u001b[0;32m     49\u001b[0m     \u001b[38;5;28;01mif\u001b[39;00m \u001b[38;5;28mhasattr\u001b[39m(\u001b[38;5;28mself\u001b[39m\u001b[38;5;241m.\u001b[39mdataset, \u001b[38;5;124m\"\u001b[39m\u001b[38;5;124m__getitems__\u001b[39m\u001b[38;5;124m\"\u001b[39m) \u001b[38;5;129;01mand\u001b[39;00m \u001b[38;5;28mself\u001b[39m\u001b[38;5;241m.\u001b[39mdataset\u001b[38;5;241m.\u001b[39m__getitems__:\n\u001b[1;32m---> 50\u001b[0m         data \u001b[38;5;241m=\u001b[39m \u001b[38;5;28;43mself\u001b[39;49m\u001b[38;5;241;43m.\u001b[39;49m\u001b[43mdataset\u001b[49m\u001b[38;5;241;43m.\u001b[39;49m\u001b[43m__getitems__\u001b[49m\u001b[43m(\u001b[49m\u001b[43mpossibly_batched_index\u001b[49m\u001b[43m)\u001b[49m\n\u001b[0;32m     51\u001b[0m     \u001b[38;5;28;01melse\u001b[39;00m:\n\u001b[0;32m     52\u001b[0m         data \u001b[38;5;241m=\u001b[39m [\u001b[38;5;28mself\u001b[39m\u001b[38;5;241m.\u001b[39mdataset[idx] \u001b[38;5;28;01mfor\u001b[39;00m idx \u001b[38;5;129;01min\u001b[39;00m possibly_batched_index]\n",
      "File \u001b[1;32m~\\AppData\\Local\\Programs\\Python\\Python312\\Lib\\site-packages\\torch\\utils\\data\\dataset.py:420\u001b[0m, in \u001b[0;36mSubset.__getitems__\u001b[1;34m(self, indices)\u001b[0m\n\u001b[0;32m    418\u001b[0m     \u001b[38;5;28;01mreturn\u001b[39;00m \u001b[38;5;28mself\u001b[39m\u001b[38;5;241m.\u001b[39mdataset\u001b[38;5;241m.\u001b[39m__getitems__([\u001b[38;5;28mself\u001b[39m\u001b[38;5;241m.\u001b[39mindices[idx] \u001b[38;5;28;01mfor\u001b[39;00m idx \u001b[38;5;129;01min\u001b[39;00m indices])  \u001b[38;5;66;03m# type: ignore[attr-defined]\u001b[39;00m\n\u001b[0;32m    419\u001b[0m \u001b[38;5;28;01melse\u001b[39;00m:\n\u001b[1;32m--> 420\u001b[0m     \u001b[38;5;28;01mreturn\u001b[39;00m [\u001b[38;5;28;43mself\u001b[39;49m\u001b[38;5;241;43m.\u001b[39;49m\u001b[43mdataset\u001b[49m\u001b[43m[\u001b[49m\u001b[38;5;28;43mself\u001b[39;49m\u001b[38;5;241;43m.\u001b[39;49m\u001b[43mindices\u001b[49m\u001b[43m[\u001b[49m\u001b[43midx\u001b[49m\u001b[43m]\u001b[49m\u001b[43m]\u001b[49m \u001b[38;5;28;01mfor\u001b[39;00m idx \u001b[38;5;129;01min\u001b[39;00m indices]\n",
      "File \u001b[1;32m~\\AppData\\Local\\Programs\\Python\\Python312\\Lib\\site-packages\\torchvision\\datasets\\folder.py:247\u001b[0m, in \u001b[0;36mDatasetFolder.__getitem__\u001b[1;34m(self, index)\u001b[0m\n\u001b[0;32m    245\u001b[0m sample \u001b[38;5;241m=\u001b[39m \u001b[38;5;28mself\u001b[39m\u001b[38;5;241m.\u001b[39mloader(path)\n\u001b[0;32m    246\u001b[0m \u001b[38;5;28;01mif\u001b[39;00m \u001b[38;5;28mself\u001b[39m\u001b[38;5;241m.\u001b[39mtransform \u001b[38;5;129;01mis\u001b[39;00m \u001b[38;5;129;01mnot\u001b[39;00m \u001b[38;5;28;01mNone\u001b[39;00m:\n\u001b[1;32m--> 247\u001b[0m     sample \u001b[38;5;241m=\u001b[39m \u001b[38;5;28;43mself\u001b[39;49m\u001b[38;5;241;43m.\u001b[39;49m\u001b[43mtransform\u001b[49m\u001b[43m(\u001b[49m\u001b[43msample\u001b[49m\u001b[43m)\u001b[49m\n\u001b[0;32m    248\u001b[0m \u001b[38;5;28;01mif\u001b[39;00m \u001b[38;5;28mself\u001b[39m\u001b[38;5;241m.\u001b[39mtarget_transform \u001b[38;5;129;01mis\u001b[39;00m \u001b[38;5;129;01mnot\u001b[39;00m \u001b[38;5;28;01mNone\u001b[39;00m:\n\u001b[0;32m    249\u001b[0m     target \u001b[38;5;241m=\u001b[39m \u001b[38;5;28mself\u001b[39m\u001b[38;5;241m.\u001b[39mtarget_transform(target)\n",
      "File \u001b[1;32m~\\AppData\\Local\\Programs\\Python\\Python312\\Lib\\site-packages\\torchvision\\transforms\\transforms.py:95\u001b[0m, in \u001b[0;36mCompose.__call__\u001b[1;34m(self, img)\u001b[0m\n\u001b[0;32m     93\u001b[0m \u001b[38;5;28;01mdef\u001b[39;00m \u001b[38;5;21m__call__\u001b[39m(\u001b[38;5;28mself\u001b[39m, img):\n\u001b[0;32m     94\u001b[0m     \u001b[38;5;28;01mfor\u001b[39;00m t \u001b[38;5;129;01min\u001b[39;00m \u001b[38;5;28mself\u001b[39m\u001b[38;5;241m.\u001b[39mtransforms:\n\u001b[1;32m---> 95\u001b[0m         img \u001b[38;5;241m=\u001b[39m \u001b[43mt\u001b[49m\u001b[43m(\u001b[49m\u001b[43mimg\u001b[49m\u001b[43m)\u001b[49m\n\u001b[0;32m     96\u001b[0m     \u001b[38;5;28;01mreturn\u001b[39;00m img\n",
      "File \u001b[1;32m~\\AppData\\Local\\Programs\\Python\\Python312\\Lib\\site-packages\\torch\\nn\\modules\\module.py:1553\u001b[0m, in \u001b[0;36mModule._wrapped_call_impl\u001b[1;34m(self, *args, **kwargs)\u001b[0m\n\u001b[0;32m   1551\u001b[0m     \u001b[38;5;28;01mreturn\u001b[39;00m \u001b[38;5;28mself\u001b[39m\u001b[38;5;241m.\u001b[39m_compiled_call_impl(\u001b[38;5;241m*\u001b[39margs, \u001b[38;5;241m*\u001b[39m\u001b[38;5;241m*\u001b[39mkwargs)  \u001b[38;5;66;03m# type: ignore[misc]\u001b[39;00m\n\u001b[0;32m   1552\u001b[0m \u001b[38;5;28;01melse\u001b[39;00m:\n\u001b[1;32m-> 1553\u001b[0m     \u001b[38;5;28;01mreturn\u001b[39;00m \u001b[38;5;28;43mself\u001b[39;49m\u001b[38;5;241;43m.\u001b[39;49m\u001b[43m_call_impl\u001b[49m\u001b[43m(\u001b[49m\u001b[38;5;241;43m*\u001b[39;49m\u001b[43margs\u001b[49m\u001b[43m,\u001b[49m\u001b[43m \u001b[49m\u001b[38;5;241;43m*\u001b[39;49m\u001b[38;5;241;43m*\u001b[39;49m\u001b[43mkwargs\u001b[49m\u001b[43m)\u001b[49m\n",
      "File \u001b[1;32m~\\AppData\\Local\\Programs\\Python\\Python312\\Lib\\site-packages\\torch\\nn\\modules\\module.py:1562\u001b[0m, in \u001b[0;36mModule._call_impl\u001b[1;34m(self, *args, **kwargs)\u001b[0m\n\u001b[0;32m   1557\u001b[0m \u001b[38;5;66;03m# If we don't have any hooks, we want to skip the rest of the logic in\u001b[39;00m\n\u001b[0;32m   1558\u001b[0m \u001b[38;5;66;03m# this function, and just call forward.\u001b[39;00m\n\u001b[0;32m   1559\u001b[0m \u001b[38;5;28;01mif\u001b[39;00m \u001b[38;5;129;01mnot\u001b[39;00m (\u001b[38;5;28mself\u001b[39m\u001b[38;5;241m.\u001b[39m_backward_hooks \u001b[38;5;129;01mor\u001b[39;00m \u001b[38;5;28mself\u001b[39m\u001b[38;5;241m.\u001b[39m_backward_pre_hooks \u001b[38;5;129;01mor\u001b[39;00m \u001b[38;5;28mself\u001b[39m\u001b[38;5;241m.\u001b[39m_forward_hooks \u001b[38;5;129;01mor\u001b[39;00m \u001b[38;5;28mself\u001b[39m\u001b[38;5;241m.\u001b[39m_forward_pre_hooks\n\u001b[0;32m   1560\u001b[0m         \u001b[38;5;129;01mor\u001b[39;00m _global_backward_pre_hooks \u001b[38;5;129;01mor\u001b[39;00m _global_backward_hooks\n\u001b[0;32m   1561\u001b[0m         \u001b[38;5;129;01mor\u001b[39;00m _global_forward_hooks \u001b[38;5;129;01mor\u001b[39;00m _global_forward_pre_hooks):\n\u001b[1;32m-> 1562\u001b[0m     \u001b[38;5;28;01mreturn\u001b[39;00m \u001b[43mforward_call\u001b[49m\u001b[43m(\u001b[49m\u001b[38;5;241;43m*\u001b[39;49m\u001b[43margs\u001b[49m\u001b[43m,\u001b[49m\u001b[43m \u001b[49m\u001b[38;5;241;43m*\u001b[39;49m\u001b[38;5;241;43m*\u001b[39;49m\u001b[43mkwargs\u001b[49m\u001b[43m)\u001b[49m\n\u001b[0;32m   1564\u001b[0m \u001b[38;5;28;01mtry\u001b[39;00m:\n\u001b[0;32m   1565\u001b[0m     result \u001b[38;5;241m=\u001b[39m \u001b[38;5;28;01mNone\u001b[39;00m\n",
      "File \u001b[1;32m~\\AppData\\Local\\Programs\\Python\\Python312\\Lib\\site-packages\\torchvision\\transforms\\transforms.py:354\u001b[0m, in \u001b[0;36mResize.forward\u001b[1;34m(self, img)\u001b[0m\n\u001b[0;32m    346\u001b[0m \u001b[38;5;28;01mdef\u001b[39;00m \u001b[38;5;21mforward\u001b[39m(\u001b[38;5;28mself\u001b[39m, img):\n\u001b[0;32m    347\u001b[0m \u001b[38;5;250m    \u001b[39m\u001b[38;5;124;03m\"\"\"\u001b[39;00m\n\u001b[0;32m    348\u001b[0m \u001b[38;5;124;03m    Args:\u001b[39;00m\n\u001b[0;32m    349\u001b[0m \u001b[38;5;124;03m        img (PIL Image or Tensor): Image to be scaled.\u001b[39;00m\n\u001b[1;32m   (...)\u001b[0m\n\u001b[0;32m    352\u001b[0m \u001b[38;5;124;03m        PIL Image or Tensor: Rescaled image.\u001b[39;00m\n\u001b[0;32m    353\u001b[0m \u001b[38;5;124;03m    \"\"\"\u001b[39;00m\n\u001b[1;32m--> 354\u001b[0m     \u001b[38;5;28;01mreturn\u001b[39;00m \u001b[43mF\u001b[49m\u001b[38;5;241;43m.\u001b[39;49m\u001b[43mresize\u001b[49m\u001b[43m(\u001b[49m\u001b[43mimg\u001b[49m\u001b[43m,\u001b[49m\u001b[43m \u001b[49m\u001b[38;5;28;43mself\u001b[39;49m\u001b[38;5;241;43m.\u001b[39;49m\u001b[43msize\u001b[49m\u001b[43m,\u001b[49m\u001b[43m \u001b[49m\u001b[38;5;28;43mself\u001b[39;49m\u001b[38;5;241;43m.\u001b[39;49m\u001b[43minterpolation\u001b[49m\u001b[43m,\u001b[49m\u001b[43m \u001b[49m\u001b[38;5;28;43mself\u001b[39;49m\u001b[38;5;241;43m.\u001b[39;49m\u001b[43mmax_size\u001b[49m\u001b[43m,\u001b[49m\u001b[43m \u001b[49m\u001b[38;5;28;43mself\u001b[39;49m\u001b[38;5;241;43m.\u001b[39;49m\u001b[43mantialias\u001b[49m\u001b[43m)\u001b[49m\n",
      "File \u001b[1;32m~\\AppData\\Local\\Programs\\Python\\Python312\\Lib\\site-packages\\torchvision\\transforms\\functional.py:477\u001b[0m, in \u001b[0;36mresize\u001b[1;34m(img, size, interpolation, max_size, antialias)\u001b[0m\n\u001b[0;32m    475\u001b[0m         warnings\u001b[38;5;241m.\u001b[39mwarn(\u001b[38;5;124m\"\u001b[39m\u001b[38;5;124mAnti-alias option is always applied for PIL Image input. Argument antialias is ignored.\u001b[39m\u001b[38;5;124m\"\u001b[39m)\n\u001b[0;32m    476\u001b[0m     pil_interpolation \u001b[38;5;241m=\u001b[39m pil_modes_mapping[interpolation]\n\u001b[1;32m--> 477\u001b[0m     \u001b[38;5;28;01mreturn\u001b[39;00m \u001b[43mF_pil\u001b[49m\u001b[38;5;241;43m.\u001b[39;49m\u001b[43mresize\u001b[49m\u001b[43m(\u001b[49m\u001b[43mimg\u001b[49m\u001b[43m,\u001b[49m\u001b[43m \u001b[49m\u001b[43msize\u001b[49m\u001b[38;5;241;43m=\u001b[39;49m\u001b[43moutput_size\u001b[49m\u001b[43m,\u001b[49m\u001b[43m \u001b[49m\u001b[43minterpolation\u001b[49m\u001b[38;5;241;43m=\u001b[39;49m\u001b[43mpil_interpolation\u001b[49m\u001b[43m)\u001b[49m\n\u001b[0;32m    479\u001b[0m \u001b[38;5;28;01mreturn\u001b[39;00m F_t\u001b[38;5;241m.\u001b[39mresize(img, size\u001b[38;5;241m=\u001b[39moutput_size, interpolation\u001b[38;5;241m=\u001b[39minterpolation\u001b[38;5;241m.\u001b[39mvalue, antialias\u001b[38;5;241m=\u001b[39mantialias)\n",
      "File \u001b[1;32m~\\AppData\\Local\\Programs\\Python\\Python312\\Lib\\site-packages\\torchvision\\transforms\\_functional_pil.py:250\u001b[0m, in \u001b[0;36mresize\u001b[1;34m(img, size, interpolation)\u001b[0m\n\u001b[0;32m    247\u001b[0m \u001b[38;5;28;01mif\u001b[39;00m \u001b[38;5;129;01mnot\u001b[39;00m (\u001b[38;5;28misinstance\u001b[39m(size, \u001b[38;5;28mlist\u001b[39m) \u001b[38;5;129;01mand\u001b[39;00m \u001b[38;5;28mlen\u001b[39m(size) \u001b[38;5;241m==\u001b[39m \u001b[38;5;241m2\u001b[39m):\n\u001b[0;32m    248\u001b[0m     \u001b[38;5;28;01mraise\u001b[39;00m \u001b[38;5;167;01mTypeError\u001b[39;00m(\u001b[38;5;124mf\u001b[39m\u001b[38;5;124m\"\u001b[39m\u001b[38;5;124mGot inappropriate size arg: \u001b[39m\u001b[38;5;132;01m{\u001b[39;00msize\u001b[38;5;132;01m}\u001b[39;00m\u001b[38;5;124m\"\u001b[39m)\n\u001b[1;32m--> 250\u001b[0m \u001b[38;5;28;01mreturn\u001b[39;00m \u001b[43mimg\u001b[49m\u001b[38;5;241;43m.\u001b[39;49m\u001b[43mresize\u001b[49m\u001b[43m(\u001b[49m\u001b[38;5;28;43mtuple\u001b[39;49m\u001b[43m(\u001b[49m\u001b[43msize\u001b[49m\u001b[43m[\u001b[49m\u001b[43m:\u001b[49m\u001b[43m:\u001b[49m\u001b[38;5;241;43m-\u001b[39;49m\u001b[38;5;241;43m1\u001b[39;49m\u001b[43m]\u001b[49m\u001b[43m)\u001b[49m\u001b[43m,\u001b[49m\u001b[43m \u001b[49m\u001b[43minterpolation\u001b[49m\u001b[43m)\u001b[49m\n",
      "File \u001b[1;32m~\\AppData\\Local\\Programs\\Python\\Python312\\Lib\\site-packages\\PIL\\Image.py:2328\u001b[0m, in \u001b[0;36mImage.resize\u001b[1;34m(self, size, resample, box, reducing_gap)\u001b[0m\n\u001b[0;32m   2316\u001b[0m         \u001b[38;5;28mself\u001b[39m \u001b[38;5;241m=\u001b[39m (\n\u001b[0;32m   2317\u001b[0m             \u001b[38;5;28mself\u001b[39m\u001b[38;5;241m.\u001b[39mreduce(factor, box\u001b[38;5;241m=\u001b[39mreduce_box)\n\u001b[0;32m   2318\u001b[0m             \u001b[38;5;28;01mif\u001b[39;00m \u001b[38;5;28mcallable\u001b[39m(\u001b[38;5;28mself\u001b[39m\u001b[38;5;241m.\u001b[39mreduce)\n\u001b[0;32m   2319\u001b[0m             \u001b[38;5;28;01melse\u001b[39;00m Image\u001b[38;5;241m.\u001b[39mreduce(\u001b[38;5;28mself\u001b[39m, factor, box\u001b[38;5;241m=\u001b[39mreduce_box)\n\u001b[0;32m   2320\u001b[0m         )\n\u001b[0;32m   2321\u001b[0m         box \u001b[38;5;241m=\u001b[39m (\n\u001b[0;32m   2322\u001b[0m             (box[\u001b[38;5;241m0\u001b[39m] \u001b[38;5;241m-\u001b[39m reduce_box[\u001b[38;5;241m0\u001b[39m]) \u001b[38;5;241m/\u001b[39m factor_x,\n\u001b[0;32m   2323\u001b[0m             (box[\u001b[38;5;241m1\u001b[39m] \u001b[38;5;241m-\u001b[39m reduce_box[\u001b[38;5;241m1\u001b[39m]) \u001b[38;5;241m/\u001b[39m factor_y,\n\u001b[0;32m   2324\u001b[0m             (box[\u001b[38;5;241m2\u001b[39m] \u001b[38;5;241m-\u001b[39m reduce_box[\u001b[38;5;241m0\u001b[39m]) \u001b[38;5;241m/\u001b[39m factor_x,\n\u001b[0;32m   2325\u001b[0m             (box[\u001b[38;5;241m3\u001b[39m] \u001b[38;5;241m-\u001b[39m reduce_box[\u001b[38;5;241m1\u001b[39m]) \u001b[38;5;241m/\u001b[39m factor_y,\n\u001b[0;32m   2326\u001b[0m         )\n\u001b[1;32m-> 2328\u001b[0m \u001b[38;5;28;01mreturn\u001b[39;00m \u001b[38;5;28mself\u001b[39m\u001b[38;5;241m.\u001b[39m_new(\u001b[38;5;28;43mself\u001b[39;49m\u001b[38;5;241;43m.\u001b[39;49m\u001b[43mim\u001b[49m\u001b[38;5;241;43m.\u001b[39;49m\u001b[43mresize\u001b[49m\u001b[43m(\u001b[49m\u001b[43msize\u001b[49m\u001b[43m,\u001b[49m\u001b[43m \u001b[49m\u001b[43mresample\u001b[49m\u001b[43m,\u001b[49m\u001b[43m \u001b[49m\u001b[43mbox\u001b[49m\u001b[43m)\u001b[49m)\n",
      "\u001b[1;31mKeyboardInterrupt\u001b[0m: "
     ]
    }
   ],
   "source": [
    "class ResidualBlock(nn.Module):\n",
    "    def __init__(self, in_channels, out_channels, stride = 1):\n",
    "        super(ResidualBlock, self).__init__()\n",
    "        self.conv1 = nn.Sequential(\n",
    "                        nn.Conv2d(in_channels, out_channels, kernel_size = 3, stride = stride, padding = 1),\n",
    "                        nn.BatchNorm2d(out_channels),\n",
    "                        nn.ReLU())\n",
    "        self.conv2 = nn.Sequential(\n",
    "                        nn.Conv2d(out_channels, out_channels, kernel_size = 3, stride = 1, padding = 1),\n",
    "                        nn.BatchNorm2d(out_channels))\n",
    "        \n",
    "        self.shortcut = nn.Sequential() # Слой для изменения размерности входа (если необходимо)\n",
    "        if stride != 1 or in_channels != out_channels:\n",
    "            self.shortcut = nn.Sequential(\n",
    "                nn.Conv2d(in_channels, out_channels, kernel_size=1, stride=stride, bias=False),\n",
    "                nn.BatchNorm2d(out_channels)\n",
    "            )\n",
    "            \n",
    "        self.relu = nn.ReLU()\n",
    "        self.out_channels = out_channels\n",
    "\n",
    "    def forward(self, x):\n",
    "        residual = x\n",
    "        out = self.conv1(x)\n",
    "        out = self.conv2(out)\n",
    "        out += self.shortcut(x)\n",
    "        out = self.relu(out)\n",
    "        return out\n",
    "\n",
    "\n",
    "class ResNet(nn.Module):\n",
    "    def __init__(self, block, layers):\n",
    "        super(ResNet, self).__init__()\n",
    "        self.in_channels = 64\n",
    "        self.conv1 = nn.Sequential(\n",
    "                        nn.Conv2d(3, 64, kernel_size = 7, stride = 2, padding = 3),\n",
    "                        nn.BatchNorm2d(64),\n",
    "                        nn.GELU(),\n",
    "                        nn.MaxPool2d(kernel_size = 3, stride = 2, padding = 1))\n",
    "        \n",
    "        self.layer0 = self._make_layer(block, 64, layers[0], stride = 1)\n",
    "        self.layer1 = self._make_layer(block, 128, layers[1], stride = 2)\n",
    "        self.layer2 = self._make_layer(block, 256, layers[2], stride = 2)\n",
    "        self.layer3 = self._make_layer(block, 512, layers[3], stride = 2)\n",
    "        \n",
    "        self.avgpool = nn.AdaptiveAvgPool2d((1, 1))\n",
    "        self.fc = nn.Sequential(\n",
    "            nn.Dropout(0.5),\n",
    "            nn.Linear(512, 512),\n",
    "            nn.GELU(),\n",
    "            nn.Dropout(0.5),\n",
    "            nn.Linear(512,1),\n",
    "            nn.Sigmoid())\n",
    "\n",
    "    def _make_layer(self, block, out_channels, blocks, stride):\n",
    "        layers = []\n",
    "        layers.append(block(self.in_channels, out_channels, stride))\n",
    "        self.in_channels = out_channels\n",
    "        for _ in range(1, blocks):\n",
    "            layers.append(block(out_channels, out_channels))\n",
    "        return nn.Sequential(*layers)\n",
    "\n",
    "    \n",
    "    def forward(self, x):\n",
    "        x = self.conv1(x)\n",
    "        x = self.layer0(x)\n",
    "        x = self.layer1(x)\n",
    "        x = self.layer2(x)\n",
    "        x = self.layer3(x)\n",
    "        x = self.avgpool(x)\n",
    "        x = x.view(x.size(0), -1)\n",
    "        x = self.fc(x)\n",
    "        return x\n",
    "\n",
    "def ResNet18():\n",
    "    return ResNet(ResidualBlock, [2, 2, 2, 2])\n",
    "\n",
    "\n",
    "device = torch.device('cuda' if torch.cuda.is_available() else 'cpu')\n",
    "model=ResNet18().to(device)\n",
    "cost=nn.BCELoss()\n",
    "optimizer=torch.optim.Adam(model.parameters())\n",
    "train_model(model, train_loader, val_loader, cost,optimizer, num_epochs=20)\n",
    "evaluate_model(model,test_loader,cost)"
   ]
  },
  {
   "cell_type": "code",
   "execution_count": 36,
   "id": "b3152b24-62f8-4686-8d6c-e15107a07462",
   "metadata": {},
   "outputs": [
    {
     "name": "stderr",
     "output_type": "stream",
     "text": [
      " 10%|████████▏                                                                         | 1/10 [05:20<48:00, 320.01s/it]"
     ]
    },
    {
     "name": "stdout",
     "output_type": "stream",
     "text": [
      "accuracy= 0.524\n",
      "Epoch [1/10], Loss: 0.7715, Accuracy: 0.5263, Val Loss: 0.6618, Val Accuracy: 0.5240\n"
     ]
    },
    {
     "name": "stderr",
     "output_type": "stream",
     "text": [
      " 20%|████████████████▍                                                                 | 2/10 [10:49<43:23, 325.41s/it]"
     ]
    },
    {
     "name": "stdout",
     "output_type": "stream",
     "text": [
      "accuracy= 0.69\n",
      "Epoch [2/10], Loss: 0.6256, Accuracy: 0.6541, Val Loss: 0.6397, Val Accuracy: 0.6900\n"
     ]
    },
    {
     "name": "stderr",
     "output_type": "stream",
     "text": [
      " 30%|████████████████████████▌                                                         | 3/10 [16:21<38:19, 328.49s/it]"
     ]
    },
    {
     "name": "stdout",
     "output_type": "stream",
     "text": [
      "accuracy= 0.798\n",
      "Epoch [3/10], Loss: 0.5198, Accuracy: 0.7631, Val Loss: 0.4296, Val Accuracy: 0.7980\n"
     ]
    },
    {
     "name": "stderr",
     "output_type": "stream",
     "text": [
      " 40%|████████████████████████████████▊                                                 | 4/10 [21:55<33:04, 330.78s/it]"
     ]
    },
    {
     "name": "stdout",
     "output_type": "stream",
     "text": [
      "accuracy= 0.792\n",
      "Epoch [4/10], Loss: 0.4944, Accuracy: 0.7692, Val Loss: 0.4227, Val Accuracy: 0.7920\n"
     ]
    },
    {
     "name": "stderr",
     "output_type": "stream",
     "text": [
      " 50%|█████████████████████████████████████████                                         | 5/10 [27:14<27:12, 326.60s/it]"
     ]
    },
    {
     "name": "stdout",
     "output_type": "stream",
     "text": [
      "accuracy= 0.824\n",
      "Epoch [5/10], Loss: 0.4706, Accuracy: 0.7871, Val Loss: 0.3898, Val Accuracy: 0.8240\n"
     ]
    },
    {
     "name": "stderr",
     "output_type": "stream",
     "text": [
      " 60%|█████████████████████████████████████████████████▏                                | 6/10 [32:41<21:46, 326.69s/it]"
     ]
    },
    {
     "name": "stdout",
     "output_type": "stream",
     "text": [
      "accuracy= 0.82\n",
      "Epoch [6/10], Loss: 0.4438, Accuracy: 0.8108, Val Loss: 0.4101, Val Accuracy: 0.8200\n"
     ]
    },
    {
     "name": "stderr",
     "output_type": "stream",
     "text": [
      " 70%|█████████████████████████████████████████████████████████▍                        | 7/10 [38:30<16:42, 334.04s/it]"
     ]
    },
    {
     "name": "stdout",
     "output_type": "stream",
     "text": [
      "accuracy= 0.822\n",
      "Epoch [7/10], Loss: 0.4179, Accuracy: 0.8159, Val Loss: 0.4151, Val Accuracy: 0.8220\n"
     ]
    },
    {
     "name": "stderr",
     "output_type": "stream",
     "text": [
      " 80%|█████████████████████████████████████████████████████████████████▌                | 8/10 [44:15<11:14, 337.34s/it]"
     ]
    },
    {
     "name": "stdout",
     "output_type": "stream",
     "text": [
      "accuracy= 0.836\n",
      "Epoch [8/10], Loss: 0.3995, Accuracy: 0.8310, Val Loss: 0.3650, Val Accuracy: 0.8360\n"
     ]
    },
    {
     "name": "stderr",
     "output_type": "stream",
     "text": [
      " 90%|█████████████████████████████████████████████████████████████████████████▊        | 9/10 [49:56<05:38, 338.67s/it]"
     ]
    },
    {
     "name": "stdout",
     "output_type": "stream",
     "text": [
      "accuracy= 0.842\n",
      "Epoch [9/10], Loss: 0.3679, Accuracy: 0.8434, Val Loss: 0.3487, Val Accuracy: 0.8420\n"
     ]
    },
    {
     "name": "stderr",
     "output_type": "stream",
     "text": [
      "100%|█████████████████████████████████████████████████████████████████████████████████| 10/10 [55:57<00:00, 335.74s/it]"
     ]
    },
    {
     "name": "stdout",
     "output_type": "stream",
     "text": [
      "accuracy= 0.85\n",
      "Epoch [10/10], Loss: 0.3548, Accuracy: 0.8519, Val Loss: 0.3673, Val Accuracy: 0.8500\n"
     ]
    },
    {
     "name": "stderr",
     "output_type": "stream",
     "text": [
      "\n"
     ]
    },
    {
     "name": "stdout",
     "output_type": "stream",
     "text": [
      "accuracy= 0.835\n"
     ]
    },
    {
     "data": {
      "text/plain": [
       "(0.39891161923370666, 0.835)"
      ]
     },
     "execution_count": 36,
     "metadata": {},
     "output_type": "execute_result"
    }
   ],
   "source": [
    "class VGG(nn.Module):\n",
    "    def __init__(self):\n",
    "        super(VGG,self).__init__()\n",
    "        self.l1=nn.Sequential(\n",
    "            nn.Conv2d(3,64, kernel_size=3, stride=1, padding=1),\n",
    "            nn.BatchNorm2d(64),\n",
    "            nn.ReLU())\n",
    "        self.l2=nn.Sequential(\n",
    "            nn.Conv2d(64,64, kernel_size=3,stride=1, padding=1),\n",
    "            nn.BatchNorm2d(64),\n",
    "            nn.ReLU(),\n",
    "            nn.MaxPool2d(kernel_size=2,stride=2))\n",
    "        self.l3=nn.Sequential(\n",
    "            nn.Conv2d(64,128, kernel_size=3,stride=1, padding=1),\n",
    "            nn.BatchNorm2d(128),\n",
    "            nn.ReLU())\n",
    "        self.l4=nn.Sequential(\n",
    "            nn.Conv2d(128,128, kernel_size=3,stride=1, padding=1),\n",
    "            nn.BatchNorm2d(128),\n",
    "            nn.ReLU(),\n",
    "            nn.MaxPool2d(kernel_size=2,stride=2))\n",
    "        self.l5=nn.Sequential(\n",
    "            nn.Conv2d(128,256, kernel_size=3,stride=1, padding=1),\n",
    "            nn.BatchNorm2d(256),\n",
    "            nn.ReLU())\n",
    "        self.l6=nn.Sequential(\n",
    "            nn.Conv2d(256,256, kernel_size=3,stride=1, padding=1),\n",
    "            nn.BatchNorm2d(256),\n",
    "            nn.ReLU())\n",
    "        self.l7=nn.Sequential(\n",
    "            nn.Conv2d(256,256, kernel_size=3,stride=1, padding=1),\n",
    "            nn.BatchNorm2d(256),\n",
    "            nn.ReLU(),\n",
    "            nn.MaxPool2d(kernel_size=2,stride=2))\n",
    "        self.l8=nn.Sequential(\n",
    "            nn.Conv2d(256,512, kernel_size=3,stride=1, padding=1),\n",
    "            nn.BatchNorm2d(512),\n",
    "            nn.ReLU()) \n",
    "        self.l9=nn.Sequential(\n",
    "            nn.Conv2d(512,512, kernel_size=3,stride=1, padding=1),\n",
    "            nn.BatchNorm2d(512),\n",
    "            nn.ReLU())\n",
    "        self.l10=nn.Sequential(\n",
    "            nn.Conv2d(512,512, kernel_size=3,stride=1, padding=1),\n",
    "            nn.BatchNorm2d(512),\n",
    "            nn.ReLU(),\n",
    "            nn.MaxPool2d(kernel_size=2,stride=2))\n",
    "        self.l11=nn.Sequential(\n",
    "            nn.Conv2d(512,512, kernel_size=3,stride=1, padding=1),\n",
    "            nn.BatchNorm2d(512),\n",
    "            nn.ReLU())\n",
    "        self.l12=nn.Sequential(\n",
    "            nn.Conv2d(512,512, kernel_size=3,stride=1, padding=1),\n",
    "            nn.BatchNorm2d(512),\n",
    "            nn.ReLU())\n",
    "        self.l13=nn.Sequential(\n",
    "            nn.Conv2d(512,512, kernel_size=3,stride=1, padding=1),\n",
    "            nn.BatchNorm2d(512),\n",
    "            nn.ReLU(),\n",
    "            nn.MaxPool2d(kernel_size=2,stride=2))\n",
    "\n",
    "\n",
    "        \n",
    "        self.fc1=nn.Sequential(\n",
    "            nn.Dropout(0.5),\n",
    "            nn.Linear(2048, 4096),\n",
    "            nn.ReLU())\n",
    "        self.fc2=nn.Sequential(\n",
    "            nn.Dropout(0.5),\n",
    "            nn.Linear(4096, 4096),\n",
    "            nn.ReLU())\n",
    "        self.fc3=nn.Sequential(\n",
    "            nn.Linear(4096, 1),\n",
    "            nn.Sigmoid())\n",
    "        \n",
    "    def forward(self,X):\n",
    "        out=self.l1(X)\n",
    "        out=self.l2(out)\n",
    "        out=self.l3(out)\n",
    "        out=self.l4(out)\n",
    "        out=self.l5(out)\n",
    "        out=self.l6(out)\n",
    "        out=self.l7(out)\n",
    "        out=self.l8(out)\n",
    "        out=self.l9(out)\n",
    "        out=self.l10(out)\n",
    "        out=self.l11(out)\n",
    "        out=self.l12(out)\n",
    "        out=self.l13(out)\n",
    "        out=out.view(out.size(0), -1)\n",
    "        out=self.fc1(out)\n",
    "        out=self.fc2(out)\n",
    "        out=self.fc3(out)\n",
    "        return out\n",
    "        \n",
    "\n",
    "device = torch.device('cuda' if torch.cuda.is_available() else 'cpu')\n",
    "model=VGG().to(device)\n",
    "cost=nn.BCELoss()\n",
    "optimizer=torch.optim.Adam(model.parameters())\n",
    "train_model(model, train_loader, val_loader, cost,optimizer)\n",
    "evaluate_model(model,test_loader,cost)"
   ]
  },
  {
   "cell_type": "code",
   "execution_count": 33,
   "id": "6cd5936f-f1db-4163-872c-48c9c13ea133",
   "metadata": {},
   "outputs": [
    {
     "name": "stderr",
     "output_type": "stream",
     "text": [
      " 10%|████████▏                                                                         | 1/10 [01:43<15:35, 103.94s/it]"
     ]
    },
    {
     "name": "stdout",
     "output_type": "stream",
     "text": [
      "accuracy= 0.75\n",
      "Epoch [1/10], Loss: 0.5747, Accuracy: 0.7226, Val Loss: 0.5074, Val Accuracy: 0.7500\n"
     ]
    },
    {
     "name": "stderr",
     "output_type": "stream",
     "text": [
      " 20%|████████████████▍                                                                 | 2/10 [03:27<13:47, 103.44s/it]"
     ]
    },
    {
     "name": "stdout",
     "output_type": "stream",
     "text": [
      "accuracy= 0.77\n",
      "Epoch [2/10], Loss: 0.5103, Accuracy: 0.7649, Val Loss: 0.4668, Val Accuracy: 0.7700\n"
     ]
    },
    {
     "name": "stderr",
     "output_type": "stream",
     "text": [
      " 30%|████████████████████████▌                                                         | 3/10 [05:07<11:53, 101.90s/it]"
     ]
    },
    {
     "name": "stdout",
     "output_type": "stream",
     "text": [
      "accuracy= 0.804\n",
      "Epoch [3/10], Loss: 0.4804, Accuracy: 0.7834, Val Loss: 0.4375, Val Accuracy: 0.8040\n"
     ]
    },
    {
     "name": "stderr",
     "output_type": "stream",
     "text": [
      " 40%|█████████████████████████████████▏                                                 | 4/10 [06:42<09:54, 99.15s/it]"
     ]
    },
    {
     "name": "stdout",
     "output_type": "stream",
     "text": [
      "accuracy= 0.834\n",
      "Epoch [4/10], Loss: 0.4586, Accuracy: 0.7963, Val Loss: 0.4303, Val Accuracy: 0.8340\n"
     ]
    },
    {
     "name": "stderr",
     "output_type": "stream",
     "text": [
      " 50%|█████████████████████████████████████████▌                                         | 5/10 [08:13<08:02, 96.49s/it]"
     ]
    },
    {
     "name": "stdout",
     "output_type": "stream",
     "text": [
      "accuracy= 0.822\n",
      "Epoch [5/10], Loss: 0.4467, Accuracy: 0.8042, Val Loss: 0.4058, Val Accuracy: 0.8220\n"
     ]
    },
    {
     "name": "stderr",
     "output_type": "stream",
     "text": [
      " 60%|█████████████████████████████████████████████████▊                                 | 6/10 [09:46<06:20, 95.19s/it]"
     ]
    },
    {
     "name": "stdout",
     "output_type": "stream",
     "text": [
      "accuracy= 0.83\n",
      "Epoch [6/10], Loss: 0.4266, Accuracy: 0.8056, Val Loss: 0.3967, Val Accuracy: 0.8300\n"
     ]
    },
    {
     "name": "stderr",
     "output_type": "stream",
     "text": [
      " 70%|██████████████████████████████████████████████████████████                         | 7/10 [11:20<04:44, 94.93s/it]"
     ]
    },
    {
     "name": "stdout",
     "output_type": "stream",
     "text": [
      "accuracy= 0.802\n",
      "Epoch [7/10], Loss: 0.4130, Accuracy: 0.8196, Val Loss: 0.4109, Val Accuracy: 0.8020\n"
     ]
    },
    {
     "name": "stderr",
     "output_type": "stream",
     "text": [
      " 80%|██████████████████████████████████████████████████████████████████▍                | 8/10 [12:55<03:09, 94.90s/it]"
     ]
    },
    {
     "name": "stdout",
     "output_type": "stream",
     "text": [
      "accuracy= 0.766\n",
      "Epoch [8/10], Loss: 0.3831, Accuracy: 0.8306, Val Loss: 0.5797, Val Accuracy: 0.7660\n"
     ]
    },
    {
     "name": "stderr",
     "output_type": "stream",
     "text": [
      " 90%|██████████████████████████████████████████████████████████████████████████▋        | 9/10 [14:29<01:34, 94.61s/it]"
     ]
    },
    {
     "name": "stdout",
     "output_type": "stream",
     "text": [
      "accuracy= 0.818\n",
      "Epoch [9/10], Loss: 0.3752, Accuracy: 0.8404, Val Loss: 0.3938, Val Accuracy: 0.8180\n"
     ]
    },
    {
     "name": "stderr",
     "output_type": "stream",
     "text": [
      "100%|██████████████████████████████████████████████████████████████████████████████████| 10/10 [16:03<00:00, 96.37s/it]"
     ]
    },
    {
     "name": "stdout",
     "output_type": "stream",
     "text": [
      "accuracy= 0.802\n",
      "Epoch [10/10], Loss: 0.3557, Accuracy: 0.8497, Val Loss: 0.4668, Val Accuracy: 0.8020\n"
     ]
    },
    {
     "name": "stderr",
     "output_type": "stream",
     "text": [
      "\n"
     ]
    },
    {
     "name": "stdout",
     "output_type": "stream",
     "text": [
      "accuracy= 0.813\n"
     ]
    },
    {
     "data": {
      "text/plain": [
       "(0.4461446972120376, 0.813)"
      ]
     },
     "execution_count": 33,
     "metadata": {},
     "output_type": "execute_result"
    }
   ],
   "source": [
    "class AlexNet(nn.Module):\n",
    "    def __init__(self):\n",
    "        super(AlexNet,self).__init__()\n",
    "        self.l1=nn.Sequential(\n",
    "            nn.Conv2d(3,96, kernel_size=11, stride=4, padding=0),\n",
    "            nn.BatchNorm2d(96),\n",
    "            nn.ReLU(),\n",
    "            nn.MaxPool2d(kernel_size=3,stride=2))\n",
    "        self.l2=nn.Sequential(\n",
    "            nn.Conv2d(96,256, kernel_size=5,stride=1, padding=2),\n",
    "            nn.BatchNorm2d(256),\n",
    "            nn.ReLU(),\n",
    "            nn.MaxPool2d(kernel_size=3,stride=2))\n",
    "        self.l3=nn.Sequential(\n",
    "            nn.Conv2d(256,384, kernel_size=3,stride=1, padding=1),\n",
    "            nn.BatchNorm2d(384),\n",
    "            nn.ReLU())\n",
    "        self.l4=nn.Sequential(\n",
    "            nn.Conv2d(384,384, kernel_size=3,stride=1, padding=1),\n",
    "            nn.BatchNorm2d(384),\n",
    "            nn.ReLU())\n",
    "        self.l5=nn.Sequential(\n",
    "            nn.Conv2d(384,256, kernel_size=3,stride=1, padding=1),\n",
    "            nn.BatchNorm2d(256),\n",
    "            nn.ReLU())\n",
    "            \n",
    "        self.fc1=nn.Sequential(\n",
    "            nn.Dropout(0.5),\n",
    "            nn.Linear(1024, 4096),\n",
    "            nn.ReLU())\n",
    "        self.fc2=nn.Sequential(\n",
    "            nn.Dropout(0.5),\n",
    "            nn.Linear(4096, 4096),\n",
    "            nn.ReLU())\n",
    "        self.fc3=nn.Sequential(\n",
    "            nn.Linear(4096, 1),\n",
    "            nn.Sigmoid())\n",
    "        \n",
    "    def forward(self,X):\n",
    "        out=self.l1(X)\n",
    "        out=self.l2(out)\n",
    "        out=self.l3(out)\n",
    "        out=self.l4(out)\n",
    "        out=self.l5(out)\n",
    "        out=out.view(out.size(0), -1)\n",
    "        out=self.fc1(out)\n",
    "        out=self.fc2(out)\n",
    "        out=self.fc3(out)\n",
    "        return out\n",
    "        \n",
    "\n",
    "device = torch.device('cuda' if torch.cuda.is_available() else 'cpu')\n",
    "model=AlexNet().to(device)\n",
    "cost=nn.BCELoss()\n",
    "optimizer=torch.optim.Adam(model.parameters())\n",
    "train_model(model, train_loader, val_loader, cost,optimizer)\n",
    "evaluate_model(model,test_loader,cost)"
   ]
  },
  {
   "cell_type": "code",
   "execution_count": 23,
   "id": "8a9072f4-9bb2-4f39-8b23-fb11e4aeb8eb",
   "metadata": {},
   "outputs": [
    {
     "name": "stderr",
     "output_type": "stream",
     "text": [
      " 10%|████████▎                                                                          | 1/10 [01:21<12:16, 81.84s/it]"
     ]
    },
    {
     "name": "stdout",
     "output_type": "stream",
     "text": [
      "accuracy= 0.802\n",
      "Epoch [1/10], Loss: 0.5065, Accuracy: 0.7484, Val Loss: 0.4195, Val Accuracy: 0.8020\n"
     ]
    },
    {
     "name": "stderr",
     "output_type": "stream",
     "text": [
      " 20%|████████████████▌                                                                  | 2/10 [01:41<06:02, 45.26s/it]"
     ]
    },
    {
     "name": "stdout",
     "output_type": "stream",
     "text": [
      "accuracy= 0.822\n",
      "Epoch [2/10], Loss: 0.4534, Accuracy: 0.7920, Val Loss: 0.3966, Val Accuracy: 0.8220\n"
     ]
    },
    {
     "name": "stderr",
     "output_type": "stream",
     "text": [
      " 30%|████████████████████████▉                                                          | 3/10 [02:00<03:54, 33.47s/it]"
     ]
    },
    {
     "name": "stdout",
     "output_type": "stream",
     "text": [
      "accuracy= 0.81\n",
      "Epoch [3/10], Loss: 0.4336, Accuracy: 0.8027, Val Loss: 0.3936, Val Accuracy: 0.8100\n"
     ]
    },
    {
     "name": "stderr",
     "output_type": "stream",
     "text": [
      " 40%|█████████████████████████████████▏                                                 | 4/10 [02:20<02:47, 27.95s/it]"
     ]
    },
    {
     "name": "stdout",
     "output_type": "stream",
     "text": [
      "accuracy= 0.82\n",
      "Epoch [4/10], Loss: 0.4162, Accuracy: 0.8109, Val Loss: 0.4000, Val Accuracy: 0.8200\n"
     ]
    },
    {
     "name": "stderr",
     "output_type": "stream",
     "text": [
      " 50%|█████████████████████████████████████████▌                                         | 5/10 [02:39<02:04, 24.88s/it]"
     ]
    },
    {
     "name": "stdout",
     "output_type": "stream",
     "text": [
      "accuracy= 0.82\n",
      "Epoch [5/10], Loss: 0.4111, Accuracy: 0.8152, Val Loss: 0.4063, Val Accuracy: 0.8200\n"
     ]
    },
    {
     "name": "stderr",
     "output_type": "stream",
     "text": [
      " 60%|█████████████████████████████████████████████████▊                                 | 6/10 [02:59<01:32, 23.00s/it]"
     ]
    },
    {
     "name": "stdout",
     "output_type": "stream",
     "text": [
      "accuracy= 0.82\n",
      "Epoch [6/10], Loss: 0.3867, Accuracy: 0.8268, Val Loss: 0.3977, Val Accuracy: 0.8200\n"
     ]
    },
    {
     "name": "stderr",
     "output_type": "stream",
     "text": [
      " 70%|██████████████████████████████████████████████████████████                         | 7/10 [03:18<01:05, 21.82s/it]"
     ]
    },
    {
     "name": "stdout",
     "output_type": "stream",
     "text": [
      "accuracy= 0.842\n",
      "Epoch [7/10], Loss: 0.3767, Accuracy: 0.8340, Val Loss: 0.3637, Val Accuracy: 0.8420\n"
     ]
    },
    {
     "name": "stderr",
     "output_type": "stream",
     "text": [
      " 80%|██████████████████████████████████████████████████████████████████▍                | 8/10 [03:37<00:42, 21.02s/it]"
     ]
    },
    {
     "name": "stdout",
     "output_type": "stream",
     "text": [
      "accuracy= 0.782\n",
      "Epoch [8/10], Loss: 0.3611, Accuracy: 0.8448, Val Loss: 0.4891, Val Accuracy: 0.7820\n"
     ]
    },
    {
     "name": "stderr",
     "output_type": "stream",
     "text": [
      " 90%|██████████████████████████████████████████████████████████████████████████▋        | 9/10 [03:57<00:20, 20.53s/it]"
     ]
    },
    {
     "name": "stdout",
     "output_type": "stream",
     "text": [
      "accuracy= 0.816\n",
      "Epoch [9/10], Loss: 0.3447, Accuracy: 0.8497, Val Loss: 0.4085, Val Accuracy: 0.8160\n"
     ]
    },
    {
     "name": "stderr",
     "output_type": "stream",
     "text": [
      "100%|██████████████████████████████████████████████████████████████████████████████████| 10/10 [04:16<00:00, 25.68s/it]"
     ]
    },
    {
     "name": "stdout",
     "output_type": "stream",
     "text": [
      "accuracy= 0.818\n",
      "Epoch [10/10], Loss: 0.3257, Accuracy: 0.8614, Val Loss: 0.3944, Val Accuracy: 0.8180\n"
     ]
    },
    {
     "name": "stderr",
     "output_type": "stream",
     "text": [
      "\n"
     ]
    },
    {
     "name": "stdout",
     "output_type": "stream",
     "text": [
      "accuracy= 0.8245\n"
     ]
    },
    {
     "data": {
      "text/plain": [
       "(0.4173242035839293, 0.8245)"
      ]
     },
     "execution_count": 23,
     "metadata": {},
     "output_type": "execute_result"
    }
   ],
   "source": [
    "class LeNet(nn.Module):\n",
    "    def __init__(self):\n",
    "        super(LeNet,self).__init__()\n",
    "        self.l1=nn.Sequential(\n",
    "            nn.Conv2d(3,6, kernel_size=5, stride=1, padding=0),\n",
    "            nn.BatchNorm2d(6),\n",
    "            nn.ReLU(),\n",
    "            nn.MaxPool2d(kernel_size=2,stride=2))\n",
    "        self.l2=nn.Sequential(\n",
    "            nn.Conv2d(6,16, kernel_size=5,stride=1, padding=0),\n",
    "            nn.BatchNorm2d(16),\n",
    "            nn.ReLU(),\n",
    "            nn.MaxPool2d(kernel_size=2,stride=2))\n",
    "        self.fc=nn.Sequential(\n",
    "            nn.Linear(16*13*13, 120),\n",
    "            nn.ReLU(),\n",
    "            nn.Linear(120, 84),\n",
    "            nn.ReLU(),\n",
    "            nn.Linear(84,1),\n",
    "            nn.Sigmoid())\n",
    "    def forward(self,X):\n",
    "        out=self.l1(X)\n",
    "        out=self.l2(out)\n",
    "        out=out.view(out.size(0), -1)\n",
    "        out=self.fc(out)\n",
    "        return out\n",
    "        \n",
    "\n",
    "device = torch.device('cuda' if torch.cuda.is_available() else 'cpu')\n",
    "model=LeNet().to(device)\n",
    "cost=nn.BCELoss()\n",
    "optimizer=torch.optim.Adam(model.parameters())\n",
    "train_model(model, train_loader, val_loader, cost,optimizer)\n",
    "evaluate_model(model,test_loader,cost)"
   ]
  },
  {
   "cell_type": "code",
   "execution_count": 35,
   "id": "621b820a-3b8b-43bc-92db-5afc5962abfb",
   "metadata": {},
   "outputs": [
    {
     "name": "stderr",
     "output_type": "stream",
     "text": [
      "  4%|███▎                                                                               | 1/25 [01:04<25:47, 64.49s/it]"
     ]
    },
    {
     "name": "stdout",
     "output_type": "stream",
     "text": [
      "accuracy= 0.7222222222222222\n",
      "Epoch [1/25], Loss: 0.5675, Accuracy: 0.7101, Val Loss: 0.5464, Val Accuracy: 0.7222\n"
     ]
    },
    {
     "name": "stderr",
     "output_type": "stream",
     "text": [
      "  8%|██████▋                                                                            | 2/25 [01:45<19:23, 50.60s/it]"
     ]
    },
    {
     "name": "stdout",
     "output_type": "stream",
     "text": [
      "accuracy= 0.7631578947368421\n",
      "Epoch [2/25], Loss: 0.5077, Accuracy: 0.7586, Val Loss: 0.4919, Val Accuracy: 0.7632\n"
     ]
    },
    {
     "name": "stderr",
     "output_type": "stream",
     "text": [
      " 12%|█████████▉                                                                         | 3/25 [02:26<16:55, 46.17s/it]"
     ]
    },
    {
     "name": "stdout",
     "output_type": "stream",
     "text": [
      "accuracy= 0.7850877192982456\n",
      "Epoch [3/25], Loss: 0.4647, Accuracy: 0.7892, Val Loss: 0.4573, Val Accuracy: 0.7851\n"
     ]
    },
    {
     "name": "stderr",
     "output_type": "stream",
     "text": [
      " 16%|█████████████▎                                                                     | 4/25 [03:07<15:29, 44.24s/it]"
     ]
    },
    {
     "name": "stdout",
     "output_type": "stream",
     "text": [
      "accuracy= 0.7811890838206628\n",
      "Epoch [4/25], Loss: 0.4584, Accuracy: 0.7985, Val Loss: 0.4659, Val Accuracy: 0.7812\n"
     ]
    },
    {
     "name": "stderr",
     "output_type": "stream",
     "text": [
      " 20%|████████████████▌                                                                  | 5/25 [03:48<14:20, 43.00s/it]"
     ]
    },
    {
     "name": "stdout",
     "output_type": "stream",
     "text": [
      "accuracy= 0.8036062378167641\n",
      "Epoch [5/25], Loss: 0.4316, Accuracy: 0.8091, Val Loss: 0.4570, Val Accuracy: 0.8036\n"
     ]
    },
    {
     "name": "stderr",
     "output_type": "stream",
     "text": [
      " 24%|███████████████████▉                                                               | 6/25 [04:29<13:23, 42.29s/it]"
     ]
    },
    {
     "name": "stdout",
     "output_type": "stream",
     "text": [
      "accuracy= 0.8084795321637427\n",
      "Epoch [6/25], Loss: 0.4226, Accuracy: 0.8165, Val Loss: 0.4280, Val Accuracy: 0.8085\n"
     ]
    },
    {
     "name": "stderr",
     "output_type": "stream",
     "text": [
      " 28%|███████████████████████▏                                                           | 7/25 [05:10<12:33, 41.85s/it]"
     ]
    },
    {
     "name": "stdout",
     "output_type": "stream",
     "text": [
      "accuracy= 0.8021442495126706\n",
      "Epoch [7/25], Loss: 0.4184, Accuracy: 0.8160, Val Loss: 0.4360, Val Accuracy: 0.8021\n"
     ]
    },
    {
     "name": "stderr",
     "output_type": "stream",
     "text": [
      " 32%|██████████████████████████▌                                                        | 8/25 [05:50<11:41, 41.29s/it]"
     ]
    },
    {
     "name": "stdout",
     "output_type": "stream",
     "text": [
      "accuracy= 0.8001949317738791\n",
      "Epoch [8/25], Loss: 0.4099, Accuracy: 0.8207, Val Loss: 0.4598, Val Accuracy: 0.8002\n"
     ]
    },
    {
     "name": "stderr",
     "output_type": "stream",
     "text": [
      " 36%|█████████████████████████████▉                                                     | 9/25 [06:30<10:55, 40.96s/it]"
     ]
    },
    {
     "name": "stdout",
     "output_type": "stream",
     "text": [
      "accuracy= 0.8172514619883041\n",
      "Epoch [9/25], Loss: 0.4007, Accuracy: 0.8261, Val Loss: 0.4279, Val Accuracy: 0.8173\n"
     ]
    },
    {
     "name": "stderr",
     "output_type": "stream",
     "text": [
      " 40%|████████████████████████████████▊                                                 | 10/25 [07:11<10:14, 41.00s/it]"
     ]
    },
    {
     "name": "stdout",
     "output_type": "stream",
     "text": [
      "accuracy= 0.8118908382066277\n",
      "Epoch [10/25], Loss: 0.3964, Accuracy: 0.8294, Val Loss: 0.4233, Val Accuracy: 0.8119\n"
     ]
    },
    {
     "name": "stderr",
     "output_type": "stream",
     "text": [
      " 44%|██████████████████████████████████▊                                            | 11/25 [36:14<2:11:05, 561.85s/it]"
     ]
    },
    {
     "name": "stdout",
     "output_type": "stream",
     "text": [
      "accuracy= 0.8104288499025342\n",
      "Epoch [11/25], Loss: 0.3981, Accuracy: 0.8240, Val Loss: 0.4206, Val Accuracy: 0.8104\n"
     ]
    },
    {
     "name": "stderr",
     "output_type": "stream",
     "text": [
      " 48%|█████████████████████████████████████▉                                         | 12/25 [36:55<1:27:23, 403.38s/it]"
     ]
    },
    {
     "name": "stdout",
     "output_type": "stream",
     "text": [
      "accuracy= 0.8104288499025342\n",
      "Epoch [12/25], Loss: 0.3867, Accuracy: 0.8334, Val Loss: 0.4096, Val Accuracy: 0.8104\n"
     ]
    },
    {
     "name": "stderr",
     "output_type": "stream",
     "text": [
      " 52%|██████████████████████████████████████████                                       | 13/25 [37:36<58:42, 293.52s/it]"
     ]
    },
    {
     "name": "stdout",
     "output_type": "stream",
     "text": [
      "accuracy= 0.7889863547758285\n",
      "Epoch [13/25], Loss: 0.3814, Accuracy: 0.8318, Val Loss: 0.4817, Val Accuracy: 0.7890\n"
     ]
    },
    {
     "name": "stderr",
     "output_type": "stream",
     "text": [
      " 56%|█████████████████████████████████████████████▎                                   | 14/25 [38:18<39:54, 217.67s/it]"
     ]
    },
    {
     "name": "stdout",
     "output_type": "stream",
     "text": [
      "accuracy= 0.8109161793372319\n",
      "Epoch [14/25], Loss: 0.3738, Accuracy: 0.8403, Val Loss: 0.4458, Val Accuracy: 0.8109\n"
     ]
    },
    {
     "name": "stderr",
     "output_type": "stream",
     "text": [
      " 60%|████████████████████████████████████████████████▌                                | 15/25 [38:59<27:25, 164.51s/it]"
     ]
    },
    {
     "name": "stdout",
     "output_type": "stream",
     "text": [
      "accuracy= 0.8201754385964912\n",
      "Epoch [15/25], Loss: 0.3655, Accuracy: 0.8428, Val Loss: 0.4272, Val Accuracy: 0.8202\n"
     ]
    },
    {
     "name": "stderr",
     "output_type": "stream",
     "text": [
      " 64%|███████████████████████████████████████████████████▊                             | 16/25 [39:40<19:05, 127.32s/it]"
     ]
    },
    {
     "name": "stdout",
     "output_type": "stream",
     "text": [
      "accuracy= 0.8079922027290448\n",
      "Epoch [16/25], Loss: 0.3608, Accuracy: 0.8476, Val Loss: 0.5037, Val Accuracy: 0.8080\n"
     ]
    },
    {
     "name": "stderr",
     "output_type": "stream",
     "text": [
      " 68%|███████████████████████████████████████████████████████                          | 17/25 [40:21<13:30, 101.28s/it]"
     ]
    },
    {
     "name": "stdout",
     "output_type": "stream",
     "text": [
      "accuracy= 0.8114035087719298\n",
      "Epoch [17/25], Loss: 0.3594, Accuracy: 0.8460, Val Loss: 0.5024, Val Accuracy: 0.8114\n"
     ]
    },
    {
     "name": "stderr",
     "output_type": "stream",
     "text": [
      " 72%|███████████████████████████████████████████████████████████                       | 18/25 [41:01<09:40, 82.96s/it]"
     ]
    },
    {
     "name": "stdout",
     "output_type": "stream",
     "text": [
      "accuracy= 0.8109161793372319\n",
      "Epoch [18/25], Loss: 0.3512, Accuracy: 0.8501, Val Loss: 0.4372, Val Accuracy: 0.8109\n"
     ]
    },
    {
     "name": "stderr",
     "output_type": "stream",
     "text": [
      " 76%|██████████████████████████████████████████████████████████████▎                   | 19/25 [41:42<07:02, 70.34s/it]"
     ]
    },
    {
     "name": "stdout",
     "output_type": "stream",
     "text": [
      "accuracy= 0.8138401559454191\n",
      "Epoch [19/25], Loss: 0.3324, Accuracy: 0.8585, Val Loss: 0.5754, Val Accuracy: 0.8138\n"
     ]
    },
    {
     "name": "stderr",
     "output_type": "stream",
     "text": [
      " 80%|█████████████████████████████████████████████████████████████████▌                | 20/25 [42:23<05:07, 61.48s/it]"
     ]
    },
    {
     "name": "stdout",
     "output_type": "stream",
     "text": [
      "accuracy= 0.7982456140350878\n",
      "Epoch [20/25], Loss: 0.3265, Accuracy: 0.8600, Val Loss: 0.5549, Val Accuracy: 0.7982\n"
     ]
    },
    {
     "name": "stderr",
     "output_type": "stream",
     "text": [
      " 84%|████████████████████████████████████████████████████████████████████▉             | 21/25 [43:04<03:41, 55.38s/it]"
     ]
    },
    {
     "name": "stdout",
     "output_type": "stream",
     "text": [
      "accuracy= 0.8065302144249513\n",
      "Epoch [21/25], Loss: 0.3140, Accuracy: 0.8684, Val Loss: 0.5378, Val Accuracy: 0.8065\n"
     ]
    },
    {
     "name": "stderr",
     "output_type": "stream",
     "text": [
      " 88%|████████████████████████████████████████████████████████████████████████▏         | 22/25 [43:45<02:33, 51.02s/it]"
     ]
    },
    {
     "name": "stdout",
     "output_type": "stream",
     "text": [
      "accuracy= 0.8089668615984406\n",
      "Epoch [22/25], Loss: 0.3132, Accuracy: 0.8674, Val Loss: 0.5823, Val Accuracy: 0.8090\n"
     ]
    },
    {
     "name": "stderr",
     "output_type": "stream",
     "text": [
      " 92%|███████████████████████████████████████████████████████████████████████████▍      | 23/25 [44:26<01:35, 47.93s/it]"
     ]
    },
    {
     "name": "stdout",
     "output_type": "stream",
     "text": [
      "accuracy= 0.8055555555555556\n",
      "Epoch [23/25], Loss: 0.2947, Accuracy: 0.8785, Val Loss: 0.5646, Val Accuracy: 0.8056\n"
     ]
    },
    {
     "name": "stderr",
     "output_type": "stream",
     "text": [
      " 96%|██████████████████████████████████████████████████████████████████████████████▋   | 24/25 [45:06<00:45, 45.66s/it]"
     ]
    },
    {
     "name": "stdout",
     "output_type": "stream",
     "text": [
      "accuracy= 0.8045808966861598\n",
      "Epoch [24/25], Loss: 0.2813, Accuracy: 0.8812, Val Loss: 0.5416, Val Accuracy: 0.8046\n"
     ]
    },
    {
     "name": "stderr",
     "output_type": "stream",
     "text": [
      "100%|█████████████████████████████████████████████████████████████████████████████████| 25/25 [45:46<00:00, 109.87s/it]"
     ]
    },
    {
     "name": "stdout",
     "output_type": "stream",
     "text": [
      "accuracy= 0.7962962962962963\n",
      "Epoch [25/25], Loss: 0.2920, Accuracy: 0.8811, Val Loss: 0.5143, Val Accuracy: 0.7963\n"
     ]
    },
    {
     "name": "stderr",
     "output_type": "stream",
     "text": [
      "\n"
     ]
    },
    {
     "data": {
      "image/png": "[encoded data removed]",
      "text/plain": [
       "<Figure size 1200x500 with 2 Axes>"
      ]
     },
     "metadata": {},
     "output_type": "display_data"
    },
    {
     "name": "stdout",
     "output_type": "stream",
     "text": [
      "accuracy= 0.8051729415365779\n"
     ]
    },
    {
     "data": {
      "text/plain": [
       "(0.5707374665077903, 0.8051729415365779)"
      ]
     },
     "execution_count": 35,
     "metadata": {},
     "output_type": "execute_result"
    }
   ],
   "source": [
    "class CNN(nn.Module):\n",
    "    def __init__(self):\n",
    "        super(CNN, self).__init__()\n",
    "        self.conv_layers = nn.Sequential(\n",
    "            nn.Conv2d(3, 12, kernel_size=3, stride=1, padding=1), #3 - входные каналы, 32 - выходные\n",
    "            nn.ReLU(),\n",
    "            nn.MaxPool2d(kernel_size=2, stride=2),\n",
    "            \n",
    "            nn.Conv2d(12, 20, kernel_size=3, stride=1, padding=1),\n",
    "            nn.ReLU(),\n",
    "            nn.MaxPool2d(kernel_size=2, stride=2),\n",
    "            \n",
    "            nn.Conv2d(20, 30, kernel_size=3, stride=1, padding=1),\n",
    "            nn.ReLU(),\n",
    "            nn.MaxPool2d(kernel_size=2, stride=2)\n",
    "        )\n",
    "        \n",
    "        self.fc_layers = nn.Sequential(\n",
    "            nn.Linear(30 * 8 * 8, 512), #64:2^3 =8\n",
    "            nn.ReLU(),\n",
    "            nn.Dropout(0.5),\n",
    "            nn.Linear(512, 1),\n",
    "            nn.Sigmoid()\n",
    "        )\n",
    "    \n",
    "    def forward(self, x):\n",
    "        x = self.conv_layers(x)\n",
    "        x = x.view(x.size(0), -1)\n",
    "        x = self.fc_layers(x)\n",
    "        return x\n",
    "\n",
    "\n",
    "model = CNN()\n",
    "device = torch.device('cuda' if torch.cuda.is_available() else 'cpu')\n",
    "model.to(device)\n",
    "criterion = nn.BCELoss()\n",
    "optimizer = optim.Adam(model.parameters(), lr=0.005)\n",
    "train_model(model, train_loader, val_loader, criterion, optimizer, num_epochs=25)\n",
    "evaluate_model(model,test_loader,criterion)"
   ]
  },
  {
   "cell_type": "code",
   "execution_count": 117,
   "id": "41e4dfc8-53fb-485c-a07e-b9a364c12322",
   "metadata": {},
   "outputs": [],
   "source": []
  },
  {
   "cell_type": "markdown",
   "id": "d4b8b405-97a1-4207-b880-d9af476ce36d",
   "metadata": {},
   "source": [
    "## Реализация CNN без nn.Module"
   ]
  },
  {
   "cell_type": "code",
   "execution_count": 130,
   "id": "66598a09-c60b-4244-addc-60e36da2377e",
   "metadata": {},
   "outputs": [],
   "source": [
    "def make_pad(X, p):\n",
    "    X_pad = np.pad(X, ((0, 0), (p, p), (p, p), (0, 0)), 'constant', constant_values=(0, 0))\n",
    "    return X_pad\n",
    "    \n",
    "class ReLU:\n",
    "    def __init__(self):\n",
    "        pass\n",
    "    def forward(self, X):\n",
    "        self.X = X\n",
    "        return np.maximum(X, 0)\n",
    "\n",
    "    def backward(self, dLdy):\n",
    "        return (self.X > 0) * dLdy\n",
    "\n",
    "    def step(self, learning_rate):\n",
    "        pass\n",
    "\n",
    "class Conv2D:\n",
    "\n",
    "    def __init__(self, input_channels, filters, filter_size=3, padding=1, stride=1,learning_rate=0.001, optimizer=None):\n",
    "        self.filters = filters\n",
    "        self.filter_size = filter_size\n",
    "        self.input_channels = input_channels\n",
    "        self.padding = padding\n",
    "        self.stride = stride\n",
    "        self.learning_rate = learning_rate\n",
    "        self.optimizer = optimizer\n",
    "        self.cache = None\n",
    "        self.not_first = False\n",
    "        \n",
    "\n",
    "    def forward(self, X_prev):\n",
    "        activation_caches = []\n",
    "        \n",
    "        if self.not_first == False:\n",
    "            self.W = np.random.randn(self.filter_size, self.filter_size, X_prev.shape[-1], self.filters) \n",
    "            self.b = np.random.randn(1, 1, 1, self.filters)\n",
    "            self.not_first = True\n",
    "        \n",
    "        (m, height_prev, wide_prev, channels_prev) = X_prev.shape\n",
    "        (f, f, channels_prev, channels) = self.W.shape\n",
    "\n",
    "        height = int((height_prev - f + (2 * self.padding)) / self.stride) + 1\n",
    "        wide = int((wide_prev - f + (2 * self.padding)) / self.stride) + 1\n",
    "        \n",
    "        output = np.zeros((m, height, wide, channels))\n",
    "        X_pp = make_pad(X_prev, self.padding)\n",
    "       \n",
    "        for i in range(m):\n",
    "            xpp = X_pp[i]  \n",
    "            \n",
    "            for h in range(height):                 \n",
    "                string1 = h * self.stride\n",
    "                string2 = string1 + f\n",
    "                \n",
    "                for w in range(wide):                  \n",
    "                    row1 = w * self.stride\n",
    "                    row2 = row1 + f\n",
    "                   \n",
    "                    for c in range(channels):  \n",
    "                        window = xpp[string1:string2, row1:row2, :]                        \n",
    "                        weights = self.W[:, :, :, c]\n",
    "                        biases = self.b[:, :, :, c] \n",
    "                        output[i, h, w, c] = np.sum(np.multiply(window, weights))+ float(biases)\n",
    "               \n",
    "                output[i], activation_cache = np.maximum(0,output[i]), output[i]\n",
    "                activation_caches.append(activation_cache)\n",
    "        \n",
    "        self.cache = (X_prev, np.array(activation_caches))\n",
    "        return output\n",
    "\n",
    "    def backward(self, dZ):\n",
    "        X, activation_cache = self.cache\n",
    "        W, b = self.W, self.b\n",
    "        (m, height_prev, wide_prev, channels_prev) = X.shape\n",
    "        (f, f, channels_prev, channels) = W.shape\n",
    "    \n",
    "        stride = self.stride\n",
    "        pad = self.padding\n",
    "        (m, height, wide, channels) = dZ.shape\n",
    "\n",
    "        dX = np.zeros((m, height_prev, wide_prev, channels_prev))                           \n",
    "        self.dW = np.zeros((f, f, channels_prev, channels))\n",
    "        self.db = np.zeros((1, 1, 1, channels))\n",
    "\n",
    "        X_p = make_pad(X, pad)\n",
    "        dX_p = make_pad(dX, pad)\n",
    "        \n",
    "        for i in range(m):\n",
    "            temp = np.array(dZ[i], copy=True) \n",
    "            temp[activation_cache[i] <= 0] = 0\n",
    "            dZ[i] = temp\n",
    "            xpp = X_p[i]\n",
    "            dxpp = dX_p[i]\n",
    "            \n",
    "            for h in range(height):   \n",
    "                string1 = h * stride\n",
    "                string2 = string1 + f\n",
    "                \n",
    "                for w in range(wide):               \n",
    "                    row1 = w * stride\n",
    "                    row2 = row1 + f\n",
    "                    \n",
    "                    for c in range(channels):          \n",
    "                        window = xpp[string1:string2, row1:row2, :]\n",
    "                        dxpp[string1:string2, row1:row2, :] += W[:,:,:,c] * dZ[i, h, w, c]\n",
    "                        self.dW[:,:,:,c] += window * dZ[i, h, w, c]\n",
    "                        self.db[:,:,:,c] += dZ[i, h, w, c]\n",
    "                        \n",
    "            if pad:\n",
    "                dX[i, :, :, :] = dxpp[pad:-pad, pad:-pad, :]\n",
    "            else:\n",
    "                dX[i, :, :, :] = dA_prev[i, :, :, :]\n",
    "        return dX\n",
    "\n",
    "    \n",
    "    def step(self,_): \n",
    "        if self.optimizer == 'adam':\n",
    "            self.Adam()\n",
    "        else:   \n",
    "            self.W = self.W - self.learning_rate * self.dW \n",
    "            self.b = self.b - self.learning_rate * self.db \n",
    "\n",
    "    \n",
    "    def Adam(self, beta1=0.9, beta2=0.999):\n",
    "        self.epsilon = 1e-8\n",
    "        self.v_dW = np.zeros(self.W.shape)\n",
    "        self.v_db = np.zeros(self.b.shape)\n",
    "        self.s_dW = np.zeros(self.W.shape)\n",
    "        self.s_db = np.zeros(self.b.shape)\n",
    "        self.t = 1\n",
    "\n",
    "        self.v_dW = beta1 * self.v_dW + (1-beta1) * self.dW\n",
    "        self.v_db = beta1 * self.v_db + (1-beta1) * self.db\n",
    "        self.v_dW_corrected = self.v_dW / (1-beta1**self.t)\n",
    "        self.v_db_corrected = self.v_db / (1-beta1**self.t)\n",
    "\n",
    "        self.s_dW = beta2 * self.s_dW + (1-beta2) * np.square(self.dW)\n",
    "        self.s_db = beta2 * self.s_db + (1-beta2) * np.square(self.db)\n",
    "        self.s_dW_corrected = self.s_dW / (1-beta2**self.t)\n",
    "        self.s_db_corrected = self.s_db / (1-beta2**self.t)\n",
    "\n",
    "        self.t += 1\n",
    "\n",
    "        self.W = self.W - self.learning_rate * (self.v_dW_corrected / (np.sqrt(self.s_dW_corrected) + self.epsilon))\n",
    "        self.b = self.b - self.learning_rate * (self.v_db_corrected / (np.sqrt(self.s_db_corrected) + self.epsilon))\n",
    "        \n",
    "        "
   ]
  },
  {
   "cell_type": "code",
   "execution_count": 131,
   "id": "b2096226-d013-4a11-a8c6-8728eda1cf74",
   "metadata": {},
   "outputs": [],
   "source": [
    "class CE: #Функция потерь - бинарная кросс-энтропия\n",
    "    def __init__(self): \n",
    "        pass\n",
    "    def forward(self, X, y):\n",
    "        self.X=X\n",
    "        self.y=y\n",
    "        return - np.mean(self.y * np.log(self.X + 1e-7))  \n",
    "    def backward(self ):\n",
    "        return -self.y[:, np.newaxis]/(self.X + 1e-7)"
   ]
  },
  {
   "cell_type": "code",
   "execution_count": 132,
   "id": "31929627-de87-4bd2-b9c5-59b230729f00",
   "metadata": {},
   "outputs": [],
   "source": [
    "class Flatten:\n",
    "    def __init__(self):\n",
    "        self.input_shape = None\n",
    "        \n",
    "    def forward(self, X):\n",
    "        self.input_shape = X.shape\n",
    "        return X.reshape(X.shape[0], -1)\n",
    "    \n",
    "    def backward(self, dout):\n",
    "        return dout.reshape(self.input_shape)\n",
    "    def step(self, _):\n",
    "        pass"
   ]
  },
  {
   "cell_type": "code",
   "execution_count": 134,
   "id": "92de5e3c-cd0a-4e6a-aa82-9c8634157b81",
   "metadata": {},
   "outputs": [],
   "source": [
    "def train(network, epochs, learning_rate, plot=True, verbose=True, loss=None):   #функция из ДЗ2\n",
    "    loss = loss or CE()\n",
    "    train_loss_epochs = []\n",
    "    test_loss_epochs = []\n",
    "    train_accuracy_epochs = []\n",
    "    test_accuracy_epochs = []\n",
    "    try:\n",
    "        for epoch in range(epochs):\n",
    "            losses = []\n",
    "            accuracies = []\n",
    "            for X, y in train_loader:\n",
    "                X = X.view(-1, 128,128,3).numpy()\n",
    "                y = y.numpy()\n",
    "                prediction = network.forward(X)\n",
    "                loss_batch = loss.forward(prediction, y)\n",
    "                losses.append(loss_batch)\n",
    "                dLdx = loss.backward()\n",
    "                network.backward(dLdx)\n",
    "                network.step(learning_rate)\n",
    "                accuracies.append((np.argmax(prediction, 1)==y).mean())\n",
    "            train_loss_epochs.append(np.mean(losses))\n",
    "            train_accuracy_epochs.append(np.mean(accuracies))\n",
    "            losses = []\n",
    "            accuracies = []    \n",
    "            for X, y in test_loader:\n",
    "                X = X.view(-1, 128,128,3).numpy()\n",
    "                y = y.numpy()\n",
    "                prediction = network.forward(X)\n",
    "                loss_batch = loss.forward(prediction, y)\n",
    "                losses.append(loss_batch)\n",
    "                accuracies.append((np.argmax(prediction, 1)==y).mean())\n",
    "            test_loss_epochs.append(np.mean(losses))\n",
    "            test_accuracy_epochs.append(np.mean(accuracies))\n",
    "            clear_output(True)\n",
    "            if verbose:\n",
    "                sys.stdout.write('\\rEpoch {0}... (Train/Test) NLL: {1:.3f}/{2:.3f}\\tAccuracy: {3:.3f}/{4:.3f}'.format(\n",
    "                            epoch, train_loss_epochs[-1], test_loss_epochs[-1],\n",
    "                            train_accuracy_epochs[-1], test_accuracy_epochs[-1]))\n",
    "            if plot:\n",
    "                plt.figure(figsize=(12, 5))\n",
    "                plt.subplot(1, 2, 1)\n",
    "                plt.plot(train_loss_epochs, label='Train')\n",
    "                plt.plot(test_loss_epochs, label='Test')\n",
    "                plt.xlabel('Epochs', fontsize=16)\n",
    "                plt.ylabel('Loss', fontsize=16)\n",
    "                plt.legend(loc=0, fontsize=16)\n",
    "                plt.grid('on')\n",
    "                plt.subplot(1, 2, 2)\n",
    "                plt.plot(train_accuracy_epochs, label='Train accuracy')\n",
    "                plt.plot(test_accuracy_epochs, label='Test accuracy')\n",
    "                plt.xlabel('Epochs', fontsize=16)\n",
    "                plt.ylabel('Accuracy', fontsize=16)\n",
    "                plt.legend(loc=0, fontsize=16)\n",
    "                plt.grid('on')\n",
    "                plt.show()\n",
    "    except KeyboardInterrupt:\n",
    "        pass\n",
    "    return train_loss_epochs, \\\n",
    "           test_loss_epochs, \\\n",
    "           train_accuracy_epochs, \\\n",
    "           test_accuracy_epochs"
   ]
  },
  {
   "cell_type": "code",
   "execution_count": null,
   "id": "eba7b9e9-a03f-4403-9b88-9bec39ec9453",
   "metadata": {},
   "outputs": [],
   "source": [
    "network = NeuralNetwork([\n",
    "    Conv2D(input_channels=3,filters=5), Flatten(),\n",
    "    #Conv2D(input_channels=5,filters=10, 100), ReLU(),\n",
    "    Linear(5*128*128, 20),ReLU(),\n",
    "    Linear(20, 1)\n",
    "])\n",
    "loss = CE()\n",
    "tr_r, ts_r, tr_ac_r, ts_ac_r = train(network, 10, 0.01, plot=True, verbose=True)"
   ]
  },
  {
   "cell_type": "code",
   "execution_count": null,
   "id": "61bf3a5b-f33b-4933-8fc1-e25d3a02320a",
   "metadata": {},
   "outputs": [],
   "source": []
  },
  {
   "cell_type": "code",
   "execution_count": null,
   "id": "a76cc41c-7d0b-4918-abd2-ab011ed0f4c1",
   "metadata": {},
   "outputs": [],
   "source": []
  }
 ],
 "metadata": {
  "kernelspec": {
   "display_name": "Python 3 (ipykernel)",
   "language": "python",
   "name": "python3"
  },
  "language_info": {
   "codemirror_mode": {
    "name": "ipython",
    "version": 3
   },
   "file_extension": ".py",
   "mimetype": "text/x-python",
   "name": "python",
   "nbconvert_exporter": "python",
   "pygments_lexer": "ipython3",
   "version": "3.12.4"
  }
 },
 "nbformat": 4,
 "nbformat_minor": 5
}
